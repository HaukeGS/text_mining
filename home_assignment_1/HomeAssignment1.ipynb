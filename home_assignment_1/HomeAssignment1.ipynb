{
 "cells": [
  {
   "cell_type": "markdown",
   "metadata": {},
   "source": [
    "# Home Assignment 1\n",
    "Due by 8th May, 2024 at 23:59 CEST"
   ]
  },
  {
   "cell_type": "markdown",
   "metadata": {},
   "source": [
    "Students:\n",
    "* Hauke Schüle, 10004972\n",
    "* Jannik Jahn, "
   ]
  },
  {
   "cell_type": "code",
   "execution_count": null,
   "metadata": {},
   "outputs": [],
   "source": [
    "import numpy as np\n",
    "import matplotlib.pyplot as plt\n",
    "from tqdm import tqdm"
   ]
  },
  {
   "cell_type": "markdown",
   "metadata": {},
   "source": [
    "## Neural Network Basics\n",
    "\n",
    "We want to create a 2 layer NN, which means we want to calculate  $y = W_2 * ReLU(W_1 * x + b_1) + b_2$\n",
    "\n",
    "Complete the TODOs below to create such a NN.\n",
    "\n",
    "Since you will be needing to compute the gradients w.r.t. all parameters, you may look into online resources for help. Please cite or link any online recources you do use.\n",
    "\n",
    "You are allowed to change any existing parts, however the code has to remain easy to understand and well documented."
   ]
  },
  {
   "cell_type": "code",
   "execution_count": 2,
   "metadata": {},
   "outputs": [],
   "source": [
    "def relu(x):\n",
    "    \"\"\"\n",
    "    ReLU activation function\n",
    "    \n",
    "    Parameters:\n",
    "        x (np.ndarray): numpy array with shape (m, n) where m is the number of dimensions and n is the number of points\n",
    "        \n",
    "    Returns:\n",
    "        x' (np.ndarray): return value of the pointwise ReLU application\n",
    "    \"\"\"\n",
    "    r = x.copy()\n",
    "    for element in np.nditer(r, op_flags=['readwrite']):\n",
    "        if element < 0:\n",
    "            element[...] = 0\n",
    "        else:\n",
    "            element[...] = element\n",
    "    return r\n",
    "\n",
    "\n",
    "def relu_grad(x):\n",
    "    r_grad = x.copy()\n",
    "    for element in np.nditer(r_grad, op_flags=['readwrite']):\n",
    "        if element <= 0:\n",
    "            element[...] = 0\n",
    "        else:\n",
    "            element[...] = 1\n",
    "    return r_grad\n",
    "\n",
    "def sigmoid(x):\n",
    "    \"\"\"\n",
    "    Sigmoid activation function\n",
    "    Parameters:\n",
    "        x (np.ndarray): numpy array with shape (m, n) where m is the number of dimensions and n is the number of points\n",
    "    Returns:\n",
    "        x' (np.ndarray): return value of the pointwise sigmoid application\n",
    "    \"\"\"\n",
    "    return 1 / (1 + np.exp(-x))"
   ]
  },
  {
   "cell_type": "code",
   "execution_count": null,
   "metadata": {},
   "outputs": [],
   "source": [
    "class NumPyNeuralNet:\n",
    "    \n",
    "    def __init__(self, dim_in, dim_hidden, dim_out):\n",
    "        self.dim_in = dim_in\n",
    "        self.dim_hidden = dim_hidden\n",
    "        self.dim_out = dim_out\n",
    "        \n",
    "        self.W_1 = np.random.randn(dim_in, dim_hidden) # weight matrix for first layer\n",
    "        self.W_2 = np.random.randn(dim_hidden, dim_out) # weight matrix for second layer\n",
    "        self.b_1 = np.random.randn(1, dim_hidden) # bias for first layer, shape (1, n) for easy matrix addition\n",
    "        self.b_2 = np.random.randn(1, dim_out) # bias for second layer, shape (1, n) for easy matrix addition\n",
    "        \n",
    "        \n",
    "    def predict(self, x):\n",
    "        \"\"\"\n",
    "        Calculates the output of the neural network for the given x.\n",
    "        \n",
    "        Parameters:\n",
    "            x (np.ndarray): input value numpy array\n",
    "        \n",
    "        Returns:\n",
    "            y (np.ndarray): predicted output for `x`\n",
    "        \"\"\"\n",
    "        if x.shape != (1, self.dim_in):\n",
    "            raise ValueError(f\"Input dimension {x.shape} does not match the expected input dimension {(1, self.dim_in)}\")\n",
    "        hidden = relu((x @ self.W_1) + self.b_1)\n",
    "        output = hidden @ self.W_2 + self.b_2\n",
    "        return output\n",
    "    \n",
    "    \n",
    "    def loss(self, x, y):\n",
    "        \"\"\"\n",
    "        Calculates the Mean-Squared Error and returns the gradients w.r.t. to the parameters.\n",
    "        \n",
    "        Parameters:\n",
    "            x (np.ndarray): input value numpy array with shape (self.dim_in, n)\n",
    "            y (np.ndarray): ground truth value numpy array with shape (self.dim_out, n)\n",
    "            \n",
    "        Returns:\n",
    "            loss (float): Mean-Squared-Error between predicted value on input points and ground truth value\n",
    "            W_1_grad (np.ndarray): gradient w.r.t W_1   \n",
    "            W_2_grad (np.ndarray): gradient w.r.t W_2  \n",
    "            b_1_grad (np.ndarray): gradient w.r.t b_1   \n",
    "            b_2_grad (np.ndarray): gradient w.r.t b_2   \n",
    "        \"\"\"\n",
    "        # make sure that the input and output dimensions are correct\n",
    "        if x.shape != (1, self.dim_in):\n",
    "            raise ValueError(f\"Input dimension {x.shape} does not match the expected input dimension {(1, self.dim_in)}\")\n",
    "        if y.shape != (1, self.dim_out):\n",
    "            raise ValueError(f\"Ground truth dimension {y.shape} does not match the expected output dimension {(1, self.dim_out)}\")\n",
    "        y_pred = self.predict(x)\n",
    "\n",
    "        if y_pred.shape != y.shape:\n",
    "            raise ValueError(f\"Predicted shape {y_pred.shape} does not match the expected shape {y.shape}\")\n",
    "        \n",
    "        # calculate the loss\n",
    "        loss = 0.5 * np.mean(np.square(y_pred - y)) # Mean Squared Error with 1/2 factor for easier gradient calculation\n",
    "        \n",
    "        # calculate the gradients\n",
    "        l_grad = y_pred - y # gradient of the loss w.r.t. the output\n",
    "        h = x @ self.W_1 + self.b_1\n",
    "        r = relu(h)\n",
    "        r_grad = relu_grad(h)\n",
    "\n",
    "        b_2_grad = np.array(l_grad)\n",
    "        W_2_grad = r.T @ l_grad\n",
    "        b_1_grad = l_grad @ self.W_2.T * r_grad\n",
    "        W_1_grad = x.T @ (l_grad @ self.W_2.T * r_grad)\n",
    "\n",
    "        return loss, W_1_grad, W_2_grad, b_1_grad, b_2_grad\n",
    "\n",
    "    \n",
    "    def update(self, W_1_grad, W_2_grad, b_1_grad, b_2_grad, lr=0.001):\n",
    "        \"\"\"\n",
    "        Update the parameters of the neural network with the gradients.\n",
    "        \n",
    "        Parameters:\n",
    "            W_1_grad (np.ndarray): gradient w.r.t W_1\n",
    "            W_2_grad (np.ndarray): gradient w.r.t W_2\n",
    "            b_1_grad (np.ndarray): gradient w.r.t b_1\n",
    "            b_2_grad (np.ndarray): gradient w.r.t b_2\n",
    "            lr (float): learning rate, default: 0.001\n",
    "        \"\"\"\n",
    "        self.W_1 -= lr * W_1_grad\n",
    "        self.W_2 -= lr * W_2_grad\n",
    "        self.b_1 -= lr * b_1_grad\n",
    "        self.b_2 -= lr * b_2_grad\n",
    "\n",
    "         \n",
    "    def train(self, x, y, lr=0.001, epochs=1000):\n",
    "        \"\"\"\n",
    "        Train the neural network with gradient descent.\n",
    "        \n",
    "        Parameters:\n",
    "            x (np.ndarray): input values\n",
    "            y (np.ndarray): ground truth values\n",
    "            lr (float): learning rate, default: 0.001\n",
    "            epochs (int): number of epochs to train, default: 1000\n",
    "            \n",
    "        Returns:\n",
    "            loss (float): Return the loss achieved after all epochs\n",
    "        \"\"\"\n",
    "        loss_history = []\n",
    "        # for every epoch\n",
    "        for i in tqdm(range(epochs), desc=f\"Epoch: {i+1}/{epochs}\"):\n",
    "            # for every sample in the dataset\n",
    "            loss_eopch = [] # plot the mean loss for every epoch\n",
    "            for j in range(x.shape[0]): # x shape is to be expected as (n, 1, dim_in). n samples in the dataset with the extra dimension for easier matrix multiplication\n",
    "                x_j = x[j]\n",
    "                y_j = y[j]\n",
    "                loss, W_1_grad, W_2_grad, b_1_grad, b_2_grad = self.loss(x_j, y_j)\n",
    "                self.update(W_1_grad, W_2_grad, b_1_grad, b_2_grad, lr)\n",
    "                loss_eopch.append(loss)\n",
    "            loss_history.append(np.mean(loss_eopch))\n",
    "            lr = lr * 0.99\n",
    "        plt.plot(loss_history)\n",
    "        plt.ylabel(\"Loss\")\n",
    "        plt.xlabel(\"Epochs\")\n",
    "        plt.title(\"Average Loss over epochs\")\n",
    "        plt.show()\n",
    "        return loss_history[-1] # return the final loss\n",
    "\n"
   ]
  },
  {
   "cell_type": "code",
   "execution_count": null,
   "metadata": {},
   "outputs": [],
   "source": [
    "# We test the model created above on the simple function y = x^2\n",
    "\n",
    "model = NumPyNeuralNet(1, 20, 1)\n",
    "\n",
    "# Create a randomly distributed array of 1000 values\n",
    "x_train = 4 * np.random.randn(1000, 1, 1)\n",
    "# Create ground truth by calculating x*x\n",
    "y_train = np.expand_dims([[x_train[i][0][0] * x_train[i][0][0]] for i in range(x_train.shape[0])], axis=1)\n",
    "\n",
    "loss = model.train(x_train, y_train, lr=0.001, epochs=10)\n",
    "print(f\"Final loss: {loss}\")\n",
    "\n",
    "# 1000 samples with 1000 epochs work, but *10 is too large values. I suspect that the weights are too large\n",
    "# and then we get overflow errors. But with *4 it works quite well."
   ]
  },
  {
   "cell_type": "code",
   "execution_count": 5,
   "metadata": {},
   "outputs": [
    {
     "data": {
      "image/png": "[encoded data removed]",
      "text/plain": [
       "<Figure size 640x480 with 1 Axes>"
      ]
     },
     "metadata": {},
     "output_type": "display_data"
    },
    {
     "name": "stdout",
     "output_type": "stream",
     "text": [
      "x_train shape: (50, 1, 4)\n",
      "y_train shape: (50, 1, 2)\n",
      "y_train: [[[ 9.86761498  0.41139627]]\n",
      "\n",
      " [[-3.57459724 -5.67038828]]\n",
      "\n",
      " [[ 1.63627442 -6.79012873]]\n",
      "\n",
      " [[-2.6620367  -6.44688524]]\n",
      "\n",
      " [[-7.26176289 -3.68776256]]\n",
      "\n",
      " [[ 3.28752578 -1.11893871]]\n",
      "\n",
      " [[-1.05915155  7.41607126]]\n",
      "\n",
      " [[-0.70271516 -0.34216641]]\n",
      "\n",
      " [[ 7.20820917 -5.55165751]]\n",
      "\n",
      " [[-6.71228254  7.1622934 ]]\n",
      "\n",
      " [[-1.11519269 -3.73707296]]\n",
      "\n",
      " [[ 4.42213936 -8.42146687]]\n",
      "\n",
      " [[-3.10575554 -4.99702078]]\n",
      "\n",
      " [[-0.81222526  5.02653819]]\n",
      "\n",
      " [[-5.60092236 -4.88787724]]\n",
      "\n",
      " [[ 5.71549451 -5.51855399]]\n",
      "\n",
      " [[-2.35191106 -2.25030231]]\n",
      "\n",
      " [[ 1.94991008  1.1513359 ]]\n",
      "\n",
      " [[-3.32829909 -0.01777778]]\n",
      "\n",
      " [[-6.67306879 -5.50795332]]\n",
      "\n",
      " [[-8.32737787 -5.27800556]]\n",
      "\n",
      " [[-7.01246917 -1.8172599 ]]\n",
      "\n",
      " [[ 2.42694812  2.44307951]]\n",
      "\n",
      " [[ 8.76392668  8.32993708]]\n",
      "\n",
      " [[ 7.81745066  2.66339982]]\n",
      "\n",
      " [[ 5.01344491  5.19567501]]\n",
      "\n",
      " [[ 0.61258122  0.33101458]]\n",
      "\n",
      " [[-7.06694616  9.22776702]]\n",
      "\n",
      " [[ 0.46222087  2.68451607]]\n",
      "\n",
      " [[-0.10413867 -3.17328228]]\n",
      "\n",
      " [[-5.8676297   2.64212525]]\n",
      "\n",
      " [[ 5.23972356  4.67080204]]\n",
      "\n",
      " [[ 1.89604156  3.67901644]]\n",
      "\n",
      " [[-5.6907782   4.86750224]]\n",
      "\n",
      " [[-5.26913117  4.36533162]]\n",
      "\n",
      " [[10.55293241  0.87780702]]\n",
      "\n",
      " [[-1.87884193 -4.85558481]]\n",
      "\n",
      " [[-1.54091971 -8.99727465]]\n",
      "\n",
      " [[-9.7838554  -2.07672737]]\n",
      "\n",
      " [[ 2.9508367  -3.51883949]]\n",
      "\n",
      " [[ 4.11028898  3.23880301]]\n",
      "\n",
      " [[ 9.5294714   4.2769033 ]]\n",
      "\n",
      " [[ 6.99121562  5.81378019]]\n",
      "\n",
      " [[ 2.56500833 -8.76833863]]\n",
      "\n",
      " [[-4.88282432  2.72895707]]\n",
      "\n",
      " [[ 1.30303147  2.83807093]]\n",
      "\n",
      " [[-1.76186803 -4.3423601 ]]\n",
      "\n",
      " [[ 1.62937686 -8.1326135 ]]\n",
      "\n",
      " [[ 0.93783166 -8.60100937]]\n",
      "\n",
      " [[ 0.5995148   0.11369055]]]\n",
      "x_test [[ 4.91489282  4.66451654  3.24050604 -0.24384169]]\n",
      "Predicted: [[10.59890704  3.93827745]]\n",
      "Expected: [[9.57940936 2.99666435]]\n",
      "Final loss: 0.1472625869307302\n"
     ]
    }
   ],
   "source": [
    "# test the model on more than one input dimension and with reasonable number of epochs and samples on a simple function\n",
    "\n",
    "model = NumPyNeuralNet(4, 20, 2)\n",
    "\n",
    "x_train = 4 * np.random.randn(50, 1, 4)\n",
    "y_train = np.expand_dims([[x_train[i][0][0] + x_train[i][0][1], x_train[i][0][2] + x_train[i][0][3]] for i in range(x_train.shape[0])], axis=1)\n",
    "\n",
    "loss = model.train(x_train, y_train, lr=0.001, epochs=30)\n",
    "print(f\"x_train shape: {x_train.shape}\")\n",
    "print(f\"y_train shape: {y_train.shape}\")\n",
    "print(f\"y_train: {y_train}\")\n",
    "x_test = 2 * np.random.randn(1, 4)\n",
    "y_test = np.array([[x_test[0][0] + x_test[0][1], x_test[0][2] + x_test[0][3]]])\n",
    "print(f\"x_test {x_test}\")\n",
    "print(f\"Predicted: {model.predict(x_test)}\")\n",
    "print(f\"Expected: {y_test}\")\n",
    "print(f\"Final loss: {loss}\")"
   ]
  },
  {
   "cell_type": "markdown",
   "metadata": {},
   "source": [
    "## Embeddings\n",
    "\n",
    "### Intrinsic evaluation of embeddings\n",
    "Word similarity task is often used as an intrinsic evaluation criteria. In the dataset file you will find a list of word pairs with their similarity scores as judged by humans. The task would be to judge how well are the word vectors aligned to human judgement. We will use word2vec embedding vectors trained on the google news corpus. (Ignore the pairs where at least one the words is absent in the corpus)"
   ]
  },
  {
   "cell_type": "code",
   "execution_count": 110,
   "metadata": {},
   "outputs": [],
   "source": [
    "import torch.nn as nn\n",
    "import torch\n",
    "from torch.utils.data import Dataset, DataLoader\n",
    "import torch.optim as optim\n",
    "import gensim.downloader as api\n",
    "from sklearn.metrics.pairwise import cosine_similarity\n",
    "import pandas as pd\n",
    "import scipy.stats as stats\n",
    "import os\n",
    "from tqdm import tqdm"
   ]
  },
  {
   "cell_type": "code",
   "execution_count": 63,
   "metadata": {},
   "outputs": [],
   "source": [
    "wv = api.load('word2vec-google-news-300')"
   ]
  },
  {
   "cell_type": "markdown",
   "metadata": {},
   "source": [
    "Write a function which takes as input two words and computes the cosine similarity between them.\n",
    "You do not need to implement the cosine similarity calculation from scratch. Feel free to use any Python library.\n",
    "Remeber to ignore any pairs where at least one word is absent in the corpus. (2 points)"
   ]
  },
  {
   "cell_type": "code",
   "execution_count": 64,
   "metadata": {},
   "outputs": [],
   "source": [
    "def similarity(word1, word2):\n",
    "    \"\"\"\n",
    "    Calculate the cosine similarity between two words.\n",
    "    \n",
    "    Parameters:\n",
    "        word1 (str): first word\n",
    "        word2 (str): second word\n",
    "        \n",
    "    Returns:\n",
    "        sim (float): cosine similarity between the two words\n",
    "    \"\"\"\n",
    "    if word1 not in wv.key_to_index or word2 not in wv.key_to_index:\n",
    "        print(f\"One of the words '{word1}' or '{word2}' is not in the vocabulary.\")\n",
    "        return None\n",
    "    sim = cosine_similarity(wv[word1].reshape(1, -1), wv[word2].reshape(1, -1))\n",
    "    return sim[0][0]"
   ]
  },
  {
   "cell_type": "markdown",
   "metadata": {},
   "source": [
    "Compute the similarity between all the word pairs in the list and sort them based on the similarity scores. (1 point)"
   ]
  },
  {
   "cell_type": "code",
   "execution_count": 65,
   "metadata": {},
   "outputs": [],
   "source": [
    "df = pd.read_csv(\"wordsim353_dataset.csv\")\n",
    "df['similarity_score'] = df.apply(lambda row: similarity(row['word_1'], row['word_2']), axis=1)"
   ]
  },
  {
   "cell_type": "code",
   "execution_count": 396,
   "metadata": {},
   "outputs": [
    {
     "name": "stdout",
     "output_type": "stream",
     "text": [
      "[('tiger', 'tiger'), ('Harvard', 'Yale'), ('man', 'woman'), ('football', 'soccer'), ('mile', 'kilometer'), ('vodka', 'brandy'), ('journey', 'voyage'), ('football', 'basketball'), ('type', 'kind'), ('championship', 'tournament')]\n",
      "           word_1      word_2  human_mean  similarity_score\n",
      "2           tiger       tiger       10.00          1.000000\n",
      "209       Harvard        Yale        8.13          0.781770\n",
      "306           man       woman        8.30          0.766401\n",
      "42       football      soccer        9.03          0.731355\n",
      "170          mile   kilometer        8.66          0.725848\n",
      "59          vodka      brandy        8.13          0.688149\n",
      "68        journey      voyage        9.29          0.683085\n",
      "43       football  basketball        6.81          0.668247\n",
      "236          type        kind        8.97          0.666641\n",
      "296  championship  tournament        8.36          0.665532\n"
     ]
    }
   ],
   "source": [
    "df.sort_values(by='similarity_score', ascending=False, inplace=True)\n",
    "word_pairs_cosine_similarity = list(zip(df['word_1'].tolist(), df['word_2'].tolist()))\n",
    "print(word_pairs_cosine_similarity[:10])\n",
    "print(df.head(10))"
   ]
  },
  {
   "cell_type": "markdown",
   "metadata": {},
   "source": [
    "Sort the word pairs in the list based on the human judgement scores. (1 point)"
   ]
  },
  {
   "cell_type": "code",
   "execution_count": 397,
   "metadata": {},
   "outputs": [
    {
     "name": "stdout",
     "output_type": "stream",
     "text": [
      "[('tiger', 'tiger'), ('fuck', 'sex'), ('midday', 'noon'), ('journey', 'voyage'), ('dollar', 'buck'), ('money', 'cash'), ('coast', 'shore'), ('money', 'cash'), ('money', 'currency'), ('football', 'soccer')]\n",
      "       word_1    word_2  human_mean  similarity_score\n",
      "2       tiger     tiger       10.00          1.000000\n",
      "40       fuck       sex        9.44          0.223392\n",
      "73     midday      noon        9.29          0.552741\n",
      "68    journey    voyage        9.29          0.683085\n",
      "266    dollar      buck        9.22          0.256212\n",
      "31      money      cash        9.15          0.615122\n",
      "70      coast     shore        9.10          0.508367\n",
      "97      money      cash        9.08          0.615122\n",
      "98      money  currency        9.04          0.160101\n",
      "42   football    soccer        9.03          0.731355\n"
     ]
    }
   ],
   "source": [
    "df.sort_values(by='human_mean', ascending=False, inplace=True)\n",
    "word_pairs_human_mean = list(zip(df['word_1'].tolist(), df['word_2'].tolist()))\n",
    "print(word_pairs_human_mean[:10])\n",
    "print(df.head(10))"
   ]
  },
  {
   "cell_type": "markdown",
   "metadata": {},
   "source": [
    "Compute spearman rank correlation between the two ranked lists obtained in the previous two steps.\n",
    "You do not need to implement the spearman rank correlation calculation from scratch. Feel free to use any Python library. (2 points)"
   ]
  },
  {
   "cell_type": "code",
   "execution_count": 68,
   "metadata": {},
   "outputs": [
    {
     "name": "stdout",
     "output_type": "stream",
     "text": [
      "len word_pairs_cosine_similarity: 353\n",
      "len word_pairs_human_mean: 353\n"
     ]
    }
   ],
   "source": [
    "print(f\"len word_pairs_cosine_similarity: {len(word_pairs_cosine_similarity)}\")\n",
    "print(f\"len word_pairs_human_mean: {len(word_pairs_human_mean)}\")"
   ]
  },
  {
   "cell_type": "code",
   "execution_count": 398,
   "metadata": {},
   "outputs": [
    {
     "data": {
      "text/html": [
       "<div>\n",
       "<style scoped>\n",
       "    .dataframe tbody tr th:only-of-type {\n",
       "        vertical-align: middle;\n",
       "    }\n",
       "\n",
       "    .dataframe tbody tr th {\n",
       "        vertical-align: top;\n",
       "    }\n",
       "\n",
       "    .dataframe thead th {\n",
       "        text-align: right;\n",
       "    }\n",
       "</style>\n",
       "<table border=\"1\" class=\"dataframe\">\n",
       "  <thead>\n",
       "    <tr style=\"text-align: right;\">\n",
       "      <th></th>\n",
       "      <th>word_1</th>\n",
       "      <th>word_2</th>\n",
       "      <th>human_mean</th>\n",
       "      <th>similarity_score</th>\n",
       "      <th>rank_cosine_similarity</th>\n",
       "      <th>rank_human_mean</th>\n",
       "    </tr>\n",
       "  </thead>\n",
       "  <tbody>\n",
       "    <tr>\n",
       "      <th>2</th>\n",
       "      <td>tiger</td>\n",
       "      <td>tiger</td>\n",
       "      <td>10.00</td>\n",
       "      <td>1.000000</td>\n",
       "      <td>1.0</td>\n",
       "      <td>1.0</td>\n",
       "    </tr>\n",
       "    <tr>\n",
       "      <th>40</th>\n",
       "      <td>fuck</td>\n",
       "      <td>sex</td>\n",
       "      <td>9.44</td>\n",
       "      <td>0.223392</td>\n",
       "      <td>200.0</td>\n",
       "      <td>2.0</td>\n",
       "    </tr>\n",
       "    <tr>\n",
       "      <th>73</th>\n",
       "      <td>midday</td>\n",
       "      <td>noon</td>\n",
       "      <td>9.29</td>\n",
       "      <td>0.552741</td>\n",
       "      <td>34.0</td>\n",
       "      <td>3.5</td>\n",
       "    </tr>\n",
       "    <tr>\n",
       "      <th>68</th>\n",
       "      <td>journey</td>\n",
       "      <td>voyage</td>\n",
       "      <td>9.29</td>\n",
       "      <td>0.683085</td>\n",
       "      <td>7.0</td>\n",
       "      <td>3.5</td>\n",
       "    </tr>\n",
       "    <tr>\n",
       "      <th>266</th>\n",
       "      <td>dollar</td>\n",
       "      <td>buck</td>\n",
       "      <td>9.22</td>\n",
       "      <td>0.256212</td>\n",
       "      <td>173.0</td>\n",
       "      <td>5.0</td>\n",
       "    </tr>\n",
       "  </tbody>\n",
       "</table>\n",
       "</div>"
      ],
      "text/plain": [
       "      word_1  word_2  human_mean  similarity_score  rank_cosine_similarity  \\\n",
       "2      tiger   tiger       10.00          1.000000                     1.0   \n",
       "40      fuck     sex        9.44          0.223392                   200.0   \n",
       "73    midday    noon        9.29          0.552741                    34.0   \n",
       "68   journey  voyage        9.29          0.683085                     7.0   \n",
       "266   dollar    buck        9.22          0.256212                   173.0   \n",
       "\n",
       "     rank_human_mean  \n",
       "2                1.0  \n",
       "40               2.0  \n",
       "73               3.5  \n",
       "68               3.5  \n",
       "266              5.0  "
      ]
     },
     "execution_count": 398,
     "metadata": {},
     "output_type": "execute_result"
    }
   ],
   "source": [
    "df_ranked = df.copy()\n",
    "df_ranked['rank_cosine_similarity'] = df_ranked['similarity_score'].rank(ascending=False)\n",
    "df_ranked['rank_human_mean'] = df_ranked['human_mean'].rank(ascending=False)\n",
    "df_ranked.head()"
   ]
  },
  {
   "cell_type": "code",
   "execution_count": 70,
   "metadata": {},
   "outputs": [
    {
     "name": "stdout",
     "output_type": "stream",
     "text": [
      "Spearman correlation: 0.7000, p-value: 0.0000\n"
     ]
    }
   ],
   "source": [
    "# Calculate the Spearman correlation between the similarity score ranks and the human mean ranks\n",
    "correlation, p_value = stats.pearsonr(df_ranked['rank_cosine_similarity'], df_ranked['rank_human_mean'])\n",
    "print(f\"Spearman correlation: {correlation:.4f}, p-value: {p_value:.4f}\")"
   ]
  },
  {
   "cell_type": "code",
   "execution_count": 71,
   "metadata": {},
   "outputs": [
    {
     "name": "stdout",
     "output_type": "stream",
     "text": [
      "Spearman correlation: 0.6525, p-value: 0.0000\n"
     ]
    }
   ],
   "source": [
    "# Calculate the Spearman correlation between the similarity scores and human mean ratings\n",
    "correlation, p_value = stats.pearsonr(df['similarity_score'], df['human_mean'])\n",
    "print(f\"Spearman correlation: {correlation:.4f}, p-value: {p_value:.4f}\")"
   ]
  },
  {
   "cell_type": "markdown",
   "metadata": {},
   "source": [
    "### Word embedding based clasifier\n",
    "We will design a simple sentiment classifier based on the pre-trained word embeddings (google news).\n",
    "\n",
    "Each data point is a movie review and the sentiment could be either positive (1) or negative (0)"
   ]
  },
  {
   "cell_type": "code",
   "execution_count": 72,
   "metadata": {},
   "outputs": [
    {
     "data": {
      "text/plain": [
       "1821"
      ]
     },
     "execution_count": 72,
     "metadata": {},
     "output_type": "execute_result"
    }
   ],
   "source": [
    "import pickle\n",
    "with open('sentiment_test_X.p', 'rb') as fs:\n",
    "    test_X = pickle.load(fs)\n",
    "\n",
    "len(test_X)"
   ]
  },
  {
   "cell_type": "code",
   "execution_count": 74,
   "metadata": {},
   "outputs": [
    {
     "data": {
      "text/plain": [
       "1821"
      ]
     },
     "execution_count": 74,
     "metadata": {},
     "output_type": "execute_result"
    }
   ],
   "source": [
    "with open('sentiment_test_y.p', 'rb') as fs:\n",
    "    test_y = pickle.load(fs)\n",
    "    \n",
    "len(test_y)"
   ]
  },
  {
   "cell_type": "code",
   "execution_count": 75,
   "metadata": {},
   "outputs": [
    {
     "data": {
      "text/plain": [
       "1"
      ]
     },
     "execution_count": 75,
     "metadata": {},
     "output_type": "execute_result"
    }
   ],
   "source": [
    "test_y[0]"
   ]
  },
  {
   "cell_type": "code",
   "execution_count": 76,
   "metadata": {},
   "outputs": [],
   "source": [
    "with open('sentiment_train_X.p', 'rb') as fs:\n",
    "    train_X = pickle.load(fs)\n",
    "with open('sentiment_train_y.p', 'rb') as fs:\n",
    "    train_y = pickle.load(fs)\n",
    "with open('sentiment_val_X.p', 'rb') as fs:\n",
    "    val_X = pickle.load(fs)\n",
    "with open('sentiment_val_y.p', 'rb') as fs:\n",
    "    val_y = pickle.load(fs)        "
   ]
  },
  {
   "cell_type": "markdown",
   "metadata": {},
   "source": [
    "Given a review, compute its embedding by averaging over the embedding of its constituent words. Define a function which given a review as a list of words, generates its embeddings by averaging over the constituent word embeddings. (4 points)"
   ]
  },
  {
   "cell_type": "code",
   "execution_count": 399,
   "metadata": {},
   "outputs": [],
   "source": [
    "def generate_embedding(review):\n",
    "    \"\"\"\n",
    "    Generate the embedding for a review.\n",
    "    \n",
    "    Parameters:\n",
    "        review (np.ndarray): review to generate the embedding for\n",
    "        \n",
    "    Returns:\n",
    "        embedding (np.ndarray): embedding of the review\n",
    "    \"\"\"\n",
    "    embeddings = []\n",
    "    for word in review:\n",
    "        embedding = wv[word] if word in wv.key_to_index else None\n",
    "        if embedding is not None:\n",
    "            embeddings.append(embedding)\n",
    "    return np.mean(embeddings, axis=0) if len(embeddings) > 0 else None"
   ]
  },
  {
   "cell_type": "markdown",
   "metadata": {},
   "source": [
    "Create a feed-forward network class with pytorch. (Hyperparamter choice such as number of layers, hidden size is left to you) (8 points)"
   ]
  },
  {
   "cell_type": "code",
   "execution_count": null,
   "metadata": {},
   "outputs": [],
   "source": [
    "class Classifier(nn.Module):\n",
    "    def __init__(self, input_dim, hidden_dim, output_dim):\n",
    "        super(Classifier, self).__init__()\n",
    "        # We tried two different architectures, one really deep and one with only two layers\n",
    "        # Both performed quite similar\n",
    "        self.layers = nn.Sequential(\n",
    "            nn.Linear(input_dim, int (hidden_dim/2)),\n",
    "            nn.LeakyReLU(0.2),\n",
    "            nn.Linear(int (hidden_dim/2), hidden_dim),\n",
    "            nn.LeakyReLU(0.2),\n",
    "            nn.Linear(hidden_dim, hidden_dim*2),\n",
    "            nn.LeakyReLU(0.2),\n",
    "            nn.Linear(hidden_dim*2, hidden_dim),\n",
    "            nn.LeakyReLU(0.2),\n",
    "            nn.Linear(hidden_dim, int (hidden_dim/2)),\n",
    "            nn.LeakyReLU(0.2),\n",
    "            nn.Linear(int (hidden_dim/2), output_dim),\n",
    "            nn.Sigmoid()\n",
    "            # nn.Linear(input_dim, hidden_dim),\n",
    "            # nn.LeakyReLU(0.2),\n",
    "            # nn.Linear(hidden_dim, output_dim),\n",
    "            # nn.Sigmoid()\n",
    "        )\n",
    "\n",
    "    def forward(self, x):\n",
    "        x = self.layers(x)\n",
    "        return x"
   ]
  },
  {
   "cell_type": "markdown",
   "metadata": {},
   "source": [
    "Create a Dataset class for efficiently enumerating over the dataset. (3 points)"
   ]
  },
  {
   "cell_type": "code",
   "execution_count": 401,
   "metadata": {},
   "outputs": [],
   "source": [
    "class sent_data(Dataset):\n",
    "    def __init__(self, X, y):\n",
    "        if len(X) != len(y):\n",
    "            raise ValueError(f\"X and y must have the same length. X: {len(X)}, y: {len(y)}\")\n",
    "        self.data = []\n",
    "        self.labels = []\n",
    "        for i in range(len(X)):\n",
    "            embedding = generate_embedding(X[i])\n",
    "            if embedding is not None:\n",
    "                self.data.append(embedding)\n",
    "                self.labels.append(y[i])\n",
    "        self.data = np.array(self.data)\n",
    "        self.labels = np.array(self.labels)\n",
    "        \n",
    "    \n",
    "    def __len__(self):\n",
    "        return len(self.data)\n",
    "    \n",
    "    def __getitem__(self, idx):\n",
    "        if idx >= len(self.data):\n",
    "            raise IndexError(\"Index out of range\")\n",
    "        return self.data[idx], self.labels[idx]"
   ]
  },
  {
   "cell_type": "markdown",
   "metadata": {},
   "source": [
    "Write a train function to train model. At the end of each epoch compute the validation accuracy and save the model with the best validation accuracy. (12 points)"
   ]
  },
  {
   "cell_type": "code",
   "execution_count": 402,
   "metadata": {},
   "outputs": [],
   "source": [
    "directory_path = \"models\"\n",
    "if not os.path.exists(directory_path):\n",
    "    os.makedirs(directory_path)\n",
    "model_path = os.path.join(directory_path, \"sentiment_model.pth\")"
   ]
  },
  {
   "cell_type": "code",
   "execution_count": 403,
   "metadata": {},
   "outputs": [],
   "source": [
    "def evaluate(model, test_data):\n",
    "    \"\"\"\n",
    "    Evaluate the model on the test data.\n",
    "    \n",
    "    Parameters:\n",
    "        model (nn.Module): trained model\n",
    "        test_data (DataLoader): test data loader\n",
    "        \n",
    "    Returns:\n",
    "        accuracy (float): accuracy of the model on the test data\n",
    "    \"\"\"\n",
    "    model.eval()\n",
    "    correct = 0\n",
    "    total = 0\n",
    "    with torch.no_grad():\n",
    "        for inputs, labels in test_data:\n",
    "            outputs = model(inputs.float())\n",
    "            predicted = (outputs > 0.5).float()\n",
    "            total += labels.size(0)\n",
    "            correct += (predicted.squeeze() == labels.float()).sum().item()\n",
    "    accuracy = correct / total\n",
    "    print(f\"total number of samples validated/tested {total}\")\n",
    "    return accuracy"
   ]
  },
  {
   "cell_type": "code",
   "execution_count": 404,
   "metadata": {},
   "outputs": [],
   "source": [
    "# Adopt your code to incorporate mini-batch training\n",
    "# Use cross-entropy as your loss function\n",
    "def train(model, training_data_loader, validation_data_loader, optimizer, criterion, epochs=5):\n",
    "    model.train()\n",
    "    # keep track of the best accuracy\n",
    "    best_accuracy = 0.0\n",
    "    for epoch in range(epochs):\n",
    "        # keep track of the running loss\n",
    "        running_loss = 0.0\n",
    "        training_data_loader = tqdm(training_data_loader, desc=f\"Epoch: {epoch+1}/{epochs}\")\n",
    "        for i, (inputs, labels) in enumerate(training_data_loader):\n",
    "            optimizer.zero_grad()\n",
    "            outputs = model(inputs.float())\n",
    "            outputs = outputs.squeeze()\n",
    "            if outputs.shape != labels.shape:\n",
    "                raise ValueError(f\"Output shape {outputs.shape} does not match label shape {labels.shape}\")\n",
    "            loss = criterion(outputs, labels.float())\n",
    "            loss.backward()\n",
    "            optimizer.step()\n",
    "            running_loss += loss.item()\n",
    "            training_data_loader.set_postfix({\"loss\": running_loss / (i + 1)})\n",
    "        # evaluate the model on the validation set and save the model if the accuracy is better than the best accuracy\n",
    "        accuracy = evaluate(model, validation_data_loader)\n",
    "        if accuracy > best_accuracy:\n",
    "            best_accuracy = accuracy\n",
    "            torch.save(model.state_dict(), model_path)\n",
    "            print(f\"Model saved in epoch {epoch+1} with validation accuracy: {best_accuracy:.4f}\")"
   ]
  },
  {
   "cell_type": "code",
   "execution_count": 391,
   "metadata": {},
   "outputs": [],
   "source": [
    "# Hyperparameters\n",
    "BATCH_SIZE = 32\n",
    "INPUT_DIMENSION = wv[0].shape[0]\n",
    "HIDDEN_DIMENSION = 1024\n",
    "OUTPUT_DIMENSION = 1\n",
    "LEARNING_RATE = 0.001\n",
    "EPOCHS = 5"
   ]
  },
  {
   "cell_type": "code",
   "execution_count": 393,
   "metadata": {},
   "outputs": [],
   "source": [
    "# create datasets and dataloaders \n",
    "train_dataset = sent_data(train_X, train_y)\n",
    "train_loader = DataLoader(train_dataset, batch_size=BATCH_SIZE, shuffle=True)\n",
    "val_dataset = sent_data(val_X, val_y)\n",
    "val_loader = DataLoader(val_dataset, batch_size=BATCH_SIZE, shuffle=False)\n",
    "test_dataset = sent_data(test_X, test_y)\n",
    "test_loader = DataLoader(test_dataset, batch_size=BATCH_SIZE, shuffle=False)"
   ]
  },
  {
   "cell_type": "code",
   "execution_count": 405,
   "metadata": {},
   "outputs": [
    {
     "name": "stderr",
     "output_type": "stream",
     "text": [
      "Epoch: 1/5: 100%|██████████| 217/217 [00:03<00:00, 68.56it/s, loss=0.492]\n"
     ]
    },
    {
     "name": "stdout",
     "output_type": "stream",
     "text": [
      "total number of samples validated/tested 872\n",
      "Model saved in epoch 1 with validation accuracy: 0.7993\n"
     ]
    },
    {
     "name": "stderr",
     "output_type": "stream",
     "text": [
      "Epoch: 2/5: 100%|██████████| 217/217 [00:03<00:00, 69.20it/s, loss=0.417]\n"
     ]
    },
    {
     "name": "stdout",
     "output_type": "stream",
     "text": [
      "total number of samples validated/tested 872\n"
     ]
    },
    {
     "name": "stderr",
     "output_type": "stream",
     "text": [
      "Epoch: 3/5: 100%|██████████| 217/217 [00:03<00:00, 68.62it/s, loss=0.409]\n"
     ]
    },
    {
     "name": "stdout",
     "output_type": "stream",
     "text": [
      "total number of samples validated/tested 872\n",
      "Model saved in epoch 3 with validation accuracy: 0.8165\n"
     ]
    },
    {
     "name": "stderr",
     "output_type": "stream",
     "text": [
      "Epoch: 4/5: 100%|██████████| 217/217 [00:03<00:00, 68.88it/s, loss=0.384]\n"
     ]
    },
    {
     "name": "stdout",
     "output_type": "stream",
     "text": [
      "total number of samples validated/tested 872\n"
     ]
    },
    {
     "name": "stderr",
     "output_type": "stream",
     "text": [
      "Epoch: 5/5: 100%|██████████| 217/217 [00:03<00:00, 69.15it/s, loss=0.367]\n"
     ]
    },
    {
     "name": "stdout",
     "output_type": "stream",
     "text": [
      "total number of samples validated/tested 872\n",
      "total number of samples validated/tested 1821\n",
      "Test accuracy: 0.8199\n"
     ]
    }
   ],
   "source": [
    "# create model, optimizer and loss function with the hyperparameters\n",
    "# and train the model\n",
    "model = Classifier(input_dim=INPUT_DIMENSION, hidden_dim=HIDDEN_DIMENSION, output_dim=OUTPUT_DIMENSION)\n",
    "optimizer = optim.Adam(model.parameters(), lr=LEARNING_RATE)\n",
    "criterion = nn.BCELoss()\n",
    "train(\n",
    "    model=model, \n",
    "    training_data_loader=train_loader, \n",
    "    validation_data_loader=val_loader,\n",
    "    optimizer=optimizer,\n",
    "    criterion=criterion, \n",
    "    epochs=EPOCHS\n",
    ")\n",
    "\n",
    "# evaluate the model on the test set\n",
    "model = Classifier(input_dim=INPUT_DIMENSION, hidden_dim=HIDDEN_DIMENSION, output_dim=OUTPUT_DIMENSION)\n",
    "model.load_state_dict(torch.load(model_path, weights_only=True))\n",
    "test_accuracy = evaluate(model, test_loader)\n",
    "print(f\"Test accuracy: {test_accuracy:.4f}\")"
   ]
  },
  {
   "cell_type": "markdown",
   "metadata": {},
   "source": [
    "Evaluate the trained model on the test set and report the test accuracy. (3 points)"
   ]
  },
  {
   "cell_type": "code",
   "execution_count": null,
   "metadata": {},
   "outputs": [],
   "source": [
    "# Moved the evaluate method up top to be able to run the whole notebook in one go"
   ]
  },
  {
   "cell_type": "code",
   "execution_count": 406,
   "metadata": {},
   "outputs": [
    {
     "name": "stdout",
     "output_type": "stream",
     "text": [
      "total number of samples validated/tested 1821\n",
      "Test accuracy: 0.8199\n"
     ]
    }
   ],
   "source": [
    "model = Classifier(input_dim=INPUT_DIMENSION, hidden_dim=HIDDEN_DIMENSION, output_dim=OUTPUT_DIMENSION)\n",
    "model.load_state_dict(torch.load(model_path, weights_only=True))\n",
    "test_accuracy = evaluate(model, test_loader)\n",
    "print(f\"Test accuracy: {test_accuracy:.4f}\")"
   ]
  },
  {
   "cell_type": "code",
   "execution_count": null,
   "metadata": {},
   "outputs": [],
   "source": []
  }
 ],
 "metadata": {
  "kernelspec": {
   "display_name": "tm_ha1",
   "language": "python",
   "name": "python3"
  },
  "language_info": {
   "codemirror_mode": {
    "name": "ipython",
    "version": 3
   },
   "file_extension": ".py",
   "mimetype": "text/x-python",
   "name": "python",
   "nbconvert_exporter": "python",
   "pygments_lexer": "ipython3",
   "version": "3.11.11"
  }
 },
 "nbformat": 4,
 "nbformat_minor": 2
}
