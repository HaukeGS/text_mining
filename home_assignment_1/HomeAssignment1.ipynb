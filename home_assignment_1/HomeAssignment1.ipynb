{
 "cells": [
  {
   "cell_type": "markdown",
   "metadata": {},
   "source": [
    "# Home Assignment 1\n",
    "Due by 8th May, 2024 at 23:59 CEST"
   ]
  },
  {
   "cell_type": "code",
   "execution_count": 1,
   "metadata": {},
   "outputs": [],
   "source": [
    "import numpy as np\n",
    "import matplotlib.pyplot as plt"
   ]
  },
  {
   "cell_type": "markdown",
   "metadata": {},
   "source": [
    "## Neural Network Basics\n",
    "\n",
    "We want to create a 2 layer NN, which means we want to calculate  $y = W_2 * ReLU(W_1 * x + b_1) + b_2$\n",
    "\n",
    "Complete the TODOs below to create such a NN.\n",
    "\n",
    "Since you will be needing to compute the gradients w.r.t. all parameters, you may look into online resources for help. Please cite or link any online recources you do use.\n",
    "\n",
    "You are allowed to change any existing parts, however the code has to remain easy to understand and well documented."
   ]
  },
  {
   "cell_type": "code",
   "execution_count": 2,
   "metadata": {},
   "outputs": [],
   "source": [
    "def relu(x):\n",
    "    \"\"\"\n",
    "    ReLU activation function\n",
    "    \n",
    "    Parameters:\n",
    "        x (np.ndarray): numpy array with shape (m, n) where m is the number of dimensions and n is the number of points\n",
    "        \n",
    "    Returns:\n",
    "        x' (np.ndarray): return value of the pointwise ReLU application\n",
    "    \"\"\"\n",
    "    r = x.copy()\n",
    "    for element in np.nditer(r, op_flags=['readwrite']):\n",
    "        if element < 0:\n",
    "            element[...] = 0\n",
    "        else:\n",
    "            element[...] = element\n",
    "    return r\n",
    "\n",
    "\n",
    "def relu_grad(x):\n",
    "    r_grad = x.copy()\n",
    "    for element in np.nditer(r_grad, op_flags=['readwrite']):\n",
    "        if element <= 0:\n",
    "            element[...] = 0\n",
    "        else:\n",
    "            element[...] = 1\n",
    "    return r_grad\n",
    "\n",
    "def sigmoid(x):\n",
    "    \"\"\"\n",
    "    Sigmoid activation function\n",
    "    Parameters:\n",
    "        x (np.ndarray): numpy array with shape (m, n) where m is the number of dimensions and n is the number of points\n",
    "    Returns:\n",
    "        x' (np.ndarray): return value of the pointwise sigmoid application\n",
    "    \"\"\"\n",
    "    return 1 / (1 + np.exp(-x))"
   ]
  },
  {
   "cell_type": "code",
   "execution_count": 3,
   "metadata": {},
   "outputs": [
    {
     "name": "stdout",
     "output_type": "stream",
     "text": [
      "W1 shape: (3, 4)\n",
      "x shape: (2, 3)\n",
      "np.dot(x, W1) shape: (2, 4)\n",
      "b shape: (1, 4)\n",
      "np.dot(x, W1) + b shape: (2, 4)\n",
      "W2 shape: (4, 2)\n",
      "h shape: (2, 4)\n",
      "b2 shape: (1, 2)\n",
      "np.dot(h, W2) + b2 shape: (2, 2)\n",
      "y shape: (2, 2)\n"
     ]
    }
   ],
   "source": [
    "W1 = np.random.randn(3, 4)\n",
    "print(f\"W1 shape: {W1.shape}\")\n",
    "x = np.ones((2, 3))\n",
    "print(f\"x shape: {x.shape}\")\n",
    "print(f\"np.dot(x, W1) shape: {np.dot(x, W1).shape}\")\n",
    "b = np.random.randn(1, 4)\n",
    "print(f\"b shape: {b.shape}\")\n",
    "print(f\"np.dot(x, W1) + b shape: {(np.dot(x, W1) + b).shape}\")\n",
    "\n",
    "W2 = np.random.randn(4, 2)\n",
    "print(f\"W2 shape: {W2.shape}\")\n",
    "h = np.dot(x, W1) + b\n",
    "print(f\"h shape: {h.shape}\")\n",
    "b2 = np.random.randn(1, 2)\n",
    "print(f\"b2 shape: {b2.shape}\")\n",
    "print(f\"np.dot(h, W2) + b2 shape: {(np.dot(h, W2) + b2).shape}\")\n",
    "y = np.dot(np.dot(x, W1) + b, W2) + b2\n",
    "print(f\"y shape: {y.shape}\")"
   ]
  },
  {
   "cell_type": "code",
   "execution_count": 50,
   "metadata": {},
   "outputs": [],
   "source": [
    "class NumPyNeuralNet:\n",
    "    \n",
    "    def __init__(self, dim_in, dim_hidden, dim_out):\n",
    "        self.dim_in = dim_in\n",
    "        self.dim_hidden = dim_hidden\n",
    "        self.dim_out = dim_out\n",
    "        \n",
    "        self.W_1 = np.random.randn(dim_in, dim_hidden)\n",
    "        self.W_2 = np.random.randn(dim_hidden, dim_out)\n",
    "        self.b_1 = np.random.randn(1, dim_hidden)\n",
    "        self.b_2 = np.random.randn(1, dim_out)\n",
    "        \n",
    "        \n",
    "    def predict(self, x):\n",
    "        \"\"\"\n",
    "        Calculates the output of the neural network for the given x.\n",
    "        \n",
    "        Parameters:\n",
    "            x (np.ndarray): input value numpy array\n",
    "        \n",
    "        Returns:\n",
    "            y (np.ndarray): predicted output for `x`\n",
    "        \"\"\"\n",
    "        # if len(x) != self.dim_in:\n",
    "        #     raise ValueError(f\"Input dimension {len(x)} does not match the expected input dimension {self.dim_in}\")\n",
    "        h = x @ self.W_1\n",
    "        hidden = relu(h + self.b_1)\n",
    "        output = hidden @ self.W_2 + self.b_2\n",
    "        # print(f\"x.shape: {x.shape}\")\n",
    "        # print(f\"self.W_1.shape: {self.W_1.shape}\")\n",
    "        # print(f\"self.b_1.shape: {self.b_1.shape}\")\n",
    "        # print(f\"hidden.shape: {hidden.shape}\")\n",
    "        # print(f\"self.W_2.shape: {self.W_2.shape}\")\n",
    "        # print(f\"self.b_2.shape: {self.b_2.shape}\")\n",
    "        # print(f\"output.shape: {output.shape}\")\n",
    "        # print(f\"output: {output}\")\n",
    "        return output\n",
    "    \n",
    "    \n",
    "    def loss(self, x, y):\n",
    "        \"\"\"\n",
    "        Calculates the Mean-Squared Error and returns the gradients w.r.t. to the parameters.\n",
    "        \n",
    "        Parameters:\n",
    "            x (np.ndarray): input value numpy array with shape (self.dim_in, n)\n",
    "            y (np.ndarray): ground truth value numpy array with shape (self.dim_out, n)\n",
    "            \n",
    "        Returns:\n",
    "            loss (float): Mean-Squared-Error between predicted value on input points and ground truth value\n",
    "            W_1_grad (np.ndarray): gradient w.r.t W_1   \n",
    "            W_2_grad (np.ndarray): gradient w.r.t W_2  \n",
    "            b_1_grad (np.ndarray): gradient w.r.t b_1   \n",
    "            b_2_grad (np.ndarray): gradient w.r.t b_2   \n",
    "        \"\"\"\n",
    "        y_pred = self.predict(x)\n",
    "\n",
    "        # print(f\"x: {x}, x.shape: {x.shape}\")\n",
    "        # print(f\"y: {y}, y.shape: {y.shape}\")\n",
    "        # print(f\"y_pred: {y_pred}, y_pred.shape: {y_pred.shape}\")\n",
    "\n",
    "        if y_pred.shape != y.shape:\n",
    "            raise ValueError(f\"Predicted shape {y_pred.shape} does not match the expected shape {y.shape}\")\n",
    "        loss = 0.5 * np.mean(np.square(y_pred - y))\n",
    "        \n",
    "        # print(f\"loss: {loss}\")\n",
    "\n",
    "        l_grad = y_pred - y\n",
    "        # print(f\"l_grad: {l_grad}\")\n",
    "        # print(f\"l_grad.shape: {l_grad.shape}\")\n",
    "        h = x @ self.W_1 + self.b_1\n",
    "        # print(f\"h.shape: {h.shape}\")\n",
    "        r = relu(h)\n",
    "        # print(f\"r.shape: {r.shape}\")\n",
    "        r_grad = relu_grad(h)\n",
    "        # print(f\"r_grad.shape: {r_grad.shape}\")\n",
    "\n",
    "        # print(f\"b2.shape: {self.b_2.shape}\")\n",
    "        # print(f\"W2.shape: {self.W_2.shape}\")\n",
    "        # print(f\"b1.shape: {self.b_1.shape}\")\n",
    "        # print(f\"W1.shape: {self.W_1.shape}\")\n",
    "\n",
    "        b_2_grad = np.array(l_grad)\n",
    "        W_2_grad = r.T @ l_grad\n",
    "        b_1_grad = l_grad @ self.W_2.T * r_grad\n",
    "        W_1_grad = x.T @ (l_grad @ self.W_2.T * r_grad)\n",
    "\n",
    "        # print(f\"b_2_grad.shape: {b_2_grad.shape}\")\n",
    "        # print(f\"W_2_grad.shape: {W_2_grad.shape}\")\n",
    "        # print(f\"b_1_grad.shape: {b_1_grad.shape}\")\n",
    "        # print(f\"W_1_grad.shape: {W_1_grad.shape}\")\n",
    "\n",
    "        return loss, W_1_grad, W_2_grad, b_1_grad, b_2_grad\n",
    "        \n",
    "        # TODO: Calculate all gradients w.r.t to the parameters\n",
    "        # Hint: You need to calculate the gradients for each of the parameters by hand\n",
    "        # TODO: Also write the derivation of the gradient in the PDF file. In the implementation you may simply use the final derivation.\n",
    "    \n",
    "    def update(self, W_1_grad, W_2_grad, b_1_grad, b_2_grad, lr=0.001):\n",
    "        \"\"\"\n",
    "        Update the parameters of the neural network with the gradients.\n",
    "        \n",
    "        Parameters:\n",
    "            W_1_grad (np.ndarray): gradient w.r.t W_1\n",
    "            W_2_grad (np.ndarray): gradient w.r.t W_2\n",
    "            b_1_grad (np.ndarray): gradient w.r.t b_1\n",
    "            b_2_grad (np.ndarray): gradient w.r.t b_2\n",
    "            lr (float): learning rate, default: 0.001\n",
    "        \"\"\"\n",
    "        self.W_1 -= lr * W_1_grad\n",
    "        self.W_2 -= lr * W_2_grad\n",
    "        self.b_1 -= lr * b_1_grad\n",
    "        self.b_2 -= lr * b_2_grad\n",
    "\n",
    "         \n",
    "    def train(self, x, y, lr=0.001, epochs=1000):\n",
    "        \"\"\"\n",
    "        Train the neural network with gradient descent.\n",
    "        \n",
    "        Parameters:\n",
    "            x (np.ndarray): input values\n",
    "            y (np.ndarray): ground truth values\n",
    "            lr (float): learning rate, default: 0.001\n",
    "            epochs (int): number of epochs to train, default: 1000\n",
    "            \n",
    "        Returns:\n",
    "            loss (float): Return the loss achieved after all epochs\n",
    "        \"\"\"\n",
    "        loss_history = []\n",
    "        # print(f\"x: {x}\")\n",
    "        # print(f\"y: {y}\")\n",
    "        for i in range(epochs):\n",
    "            # print(f\"y_hat: {self.predict(x)}\")\n",
    "            for j in range(x.shape[0]):\n",
    "                # x_j = np.expand_dims(x[j], axis=0)\n",
    "                # y_j = np.expand_dims(y[j], axis=0)\n",
    "                x_j = x[j]\n",
    "                y_j = y[j]\n",
    "                # print(f\"x_j shape: {x_j.shape}\")\n",
    "                # print(f\"y_j shape: {y_j.shape}\")\n",
    "                loss, W_1_grad, W_2_grad, b_1_grad, b_2_grad = self.loss(x_j, y_j)\n",
    "                loss_history.append(loss)\n",
    "                self.update(W_1_grad, W_2_grad, b_1_grad, b_2_grad, lr)\n",
    "        plt.plot(loss_history)\n",
    "        plt.ylabel(\"Loss\")\n",
    "        plt.xlabel(\"Epochs\")\n",
    "        plt.title(\"Loss over epochs\")\n",
    "        plt.show()\n",
    "        return loss\n",
    "\n"
   ]
  },
  {
   "cell_type": "code",
   "execution_count": 5,
   "metadata": {},
   "outputs": [],
   "source": [
    "# We test the model created above on the simple function y = x^2\n",
    "\n",
    "model = NumPyNeuralNet(3, 4, 2)\n",
    "\n",
    "# Create a randomly distributed array of 1000 values\n",
    "x_train = 10 * np.random.randn(1, 3)\n",
    "# Create ground truth by calculating x*x\n",
    "y_train = np.random.randn(1, 2)\n",
    "\n",
    "loss = model.loss(x_train, y_train)"
   ]
  },
  {
   "cell_type": "code",
   "execution_count": 63,
   "metadata": {},
   "outputs": [
    {
     "data": {
      "image/png": "[encoded data removed]",
      "text/plain": [
       "<Figure size 640x480 with 1 Axes>"
      ]
     },
     "metadata": {},
     "output_type": "display_data"
    },
    {
     "name": "stdout",
     "output_type": "stream",
     "text": [
      "Final loss: 0.6973039065330789\n"
     ]
    }
   ],
   "source": [
    "# We test the model created above on the simple function y = x^2\n",
    "\n",
    "model = NumPyNeuralNet(1, 20, 1)\n",
    "\n",
    "# Create a randomly distributed array of 1000 values\n",
    "x_train = 4 * np.random.randn(100, 1, 1)\n",
    "# Create ground truth by calculating x*x\n",
    "y_train = np.expand_dims([[x_train[i][0][0] * x_train[i][0][0]] for i in range(x_train.shape[0])], axis=1)\n",
    "\n",
    "loss = model.train(x_train, y_train, lr=0.001, epochs=30)\n",
    "print(f\"Final loss: {loss}\")\n",
    "\n",
    "# 1000 samples with 1000 epochs work, but *10 is too large values. I suspect that the weights are too large\n",
    "# and then we get overflow errors. But with *4 it works quite well."
   ]
  },
  {
   "cell_type": "code",
   "execution_count": 59,
   "metadata": {},
   "outputs": [
    {
     "data": {
      "image/png": "[encoded data removed]",
      "text/plain": [
       "<Figure size 640x480 with 1 Axes>"
      ]
     },
     "metadata": {},
     "output_type": "display_data"
    },
    {
     "name": "stdout",
     "output_type": "stream",
     "text": [
      "x_train shape: (20, 1, 4)\n",
      "y_train shape: (20, 1, 2)\n",
      "y_train: [[[  1.12825505  -4.34786526]]\n",
      "\n",
      " [[ -6.18045173   0.26107172]]\n",
      "\n",
      " [[  2.50905407  -3.67612153]]\n",
      "\n",
      " [[ -0.34933833  -2.79954945]]\n",
      "\n",
      " [[  2.30347009 -12.23325612]]\n",
      "\n",
      " [[ -0.95317068  -6.73488743]]\n",
      "\n",
      " [[ -0.70176966  -3.66680145]]\n",
      "\n",
      " [[  7.93393308  -2.8250099 ]]\n",
      "\n",
      " [[-12.57090178   6.67364914]]\n",
      "\n",
      " [[ -1.48635671   1.58625701]]\n",
      "\n",
      " [[  6.52922522  -0.2318333 ]]\n",
      "\n",
      " [[  1.3518037   -3.74975205]]\n",
      "\n",
      " [[  1.1203806   -1.80961464]]\n",
      "\n",
      " [[ -9.59030183   6.71821956]]\n",
      "\n",
      " [[  1.10059672  -7.89546998]]\n",
      "\n",
      " [[  6.53052145   4.50225229]]\n",
      "\n",
      " [[ -2.4149188   -8.90381943]]\n",
      "\n",
      " [[ -4.54523814   6.65608362]]\n",
      "\n",
      " [[ -7.22968112   4.14132625]]\n",
      "\n",
      " [[ -2.96779361  -6.67979432]]]\n",
      "Predicted: [[[  1.09419769  -4.14053003]]\n",
      "\n",
      " [[ -5.85145426   1.54414396]]\n",
      "\n",
      " [[  2.21396926  -4.41988398]]\n",
      "\n",
      " [[ -0.18367782  -2.82311689]]\n",
      "\n",
      " [[  2.29730989 -11.3641302 ]]\n",
      "\n",
      " [[ -1.3991469   -5.81747448]]\n",
      "\n",
      " [[ -0.33147597  -3.36482665]]\n",
      "\n",
      " [[  7.57345103  -2.87234206]]\n",
      "\n",
      " [[-12.49896545   7.92434263]]\n",
      "\n",
      " [[ -0.9359002    0.25829388]]\n",
      "\n",
      " [[  6.25334308  -0.1842278 ]]\n",
      "\n",
      " [[  1.75825388  -2.97715654]]\n",
      "\n",
      " [[  1.12156122  -1.38714436]]\n",
      "\n",
      " [[-10.19412401   5.53217418]]\n",
      "\n",
      " [[  1.39902401  -7.31998787]]\n",
      "\n",
      " [[  6.46772745   4.48751827]]\n",
      "\n",
      " [[ -2.46857129  -9.23838075]]\n",
      "\n",
      " [[ -4.33468622   6.7421191 ]]\n",
      "\n",
      " [[ -6.9346816    4.78027159]]\n",
      "\n",
      " [[ -2.85379555  -6.5751744 ]]]\n",
      "Final loss: 0.02685562752661059\n"
     ]
    }
   ],
   "source": [
    "# test the model on more than one input dimension and with reasonable number of epochs and samples on a simple function\n",
    "\n",
    "model = NumPyNeuralNet(4, 20, 2)\n",
    "\n",
    "x_train = 4 * np.random.randn(20, 1, 4)\n",
    "y_train = np.expand_dims([[x_train[i][0][0] + x_train[i][0][1], x_train[i][0][2] + x_train[i][0][3]] for i in range(x_train.shape[0])], axis=1)\n",
    "\n",
    "loss = model.train(x_train, y_train, lr=0.001, epochs=30)\n",
    "print(f\"x_train shape: {x_train.shape}\")\n",
    "print(f\"y_train shape: {y_train.shape}\")\n",
    "print(f\"y_train: {y_train}\")\n",
    "print(f\"Predicted: {model.predict(x_train)}\")\n",
    "print(f\"Final loss: {loss}\")"
   ]
  },
  {
   "cell_type": "markdown",
   "metadata": {},
   "source": [
    "## Embeddings\n",
    "\n",
    "### Intrinsic evaluation of embeddings\n",
    "Word similarity task is often used as an intrinsic evaluation criteria. In the dataset file you will find a list of word pairs with their similarity scores as judged by humans. The task would be to judge how well are the word vectors aligned to human judgement. We will use word2vec embedding vectors trained on the google news corpus. (Ignore the pairs where at least one the words is absent in the corpus)"
   ]
  },
  {
   "cell_type": "code",
   "execution_count": null,
   "metadata": {},
   "outputs": [],
   "source": [
    "import torch.nn as nn\n",
    "from torch.utils.data import Dataset, DataLoader\n",
    "import gensim.downloader as api\n",
    "wv = api.load('word2vec-google-news-300')"
   ]
  },
  {
   "cell_type": "markdown",
   "metadata": {},
   "source": [
    "Write a function which takes as input two words and computes the cosine similarity between them.\n",
    "You do not need to implement the cosine similarity calculation from scratch. Feel free to use any Python library.\n",
    "Remeber to ignore any pairs where at least one word is absent in the corpus. (2 points)"
   ]
  },
  {
   "cell_type": "code",
   "execution_count": null,
   "metadata": {},
   "outputs": [],
   "source": [
    "def similarity(word1, word2):\n",
    "    pass"
   ]
  },
  {
   "cell_type": "markdown",
   "metadata": {},
   "source": [
    "Compute the similarity between all the word pairs in the list and sort them based on the similarity scores. (1 point)"
   ]
  },
  {
   "cell_type": "code",
   "execution_count": null,
   "metadata": {},
   "outputs": [],
   "source": []
  },
  {
   "cell_type": "markdown",
   "metadata": {},
   "source": [
    "Sort the word pairs in the list based on the human judgement scores. (1 point)"
   ]
  },
  {
   "cell_type": "code",
   "execution_count": null,
   "metadata": {},
   "outputs": [],
   "source": []
  },
  {
   "cell_type": "markdown",
   "metadata": {},
   "source": [
    "Compute spearman rank correlation between the two ranked lists obtained in the previous two steps.\n",
    "You do not need to implement the spearman rank correlation calculation from scratch. Feel free to use any Python library. (2 points)"
   ]
  },
  {
   "cell_type": "code",
   "execution_count": null,
   "metadata": {},
   "outputs": [],
   "source": []
  },
  {
   "cell_type": "markdown",
   "metadata": {},
   "source": [
    "### Word embedding based clasifier\n",
    "We will design a simple sentiment classifier based on the pre-trained word embeddings (google news).\n",
    "\n",
    "Each data point is a movie review and the sentiment could be either positive (1) or negative (0)"
   ]
  },
  {
   "cell_type": "code",
   "execution_count": null,
   "metadata": {},
   "outputs": [],
   "source": [
    "import pickle\n",
    "with open('sentiment_test_X.p', 'rb') as fs:\n",
    "    test_X = pickle.load(fs)\n",
    "\n",
    "len(test_X)"
   ]
  },
  {
   "cell_type": "code",
   "execution_count": null,
   "metadata": {},
   "outputs": [],
   "source": [
    "test_X[0]"
   ]
  },
  {
   "cell_type": "code",
   "execution_count": null,
   "metadata": {},
   "outputs": [],
   "source": [
    "with open('sentiment_test_y.p', 'rb') as fs:\n",
    "    test_y = pickle.load(fs)\n",
    "    \n",
    "len(test_y)"
   ]
  },
  {
   "cell_type": "code",
   "execution_count": null,
   "metadata": {},
   "outputs": [],
   "source": [
    "test_y[0]"
   ]
  },
  {
   "cell_type": "code",
   "execution_count": null,
   "metadata": {},
   "outputs": [],
   "source": [
    "with open('sentiment_train_X.p', 'rb') as fs:\n",
    "    train_X = pickle.load(fs)\n",
    "with open('sentiment_train_y.p', 'rb') as fs:\n",
    "    train_y = pickle.load(fs)\n",
    "with open('sentiment_val_X.p', 'rb') as fs:\n",
    "    val_X = pickle.load(fs)\n",
    "with open('sentiment_val_y.p', 'rb') as fs:\n",
    "    val_y = pickle.load(fs)        "
   ]
  },
  {
   "cell_type": "markdown",
   "metadata": {},
   "source": [
    "Given a review, compute its embedding by averaging over the embedding of its constituent words. Define a function which given a review as a list of words, generates its embeddings by averaging over the constituent word embeddings. (4 points)"
   ]
  },
  {
   "cell_type": "code",
   "execution_count": null,
   "metadata": {},
   "outputs": [],
   "source": [
    "def generate_embedding(review):\n",
    "    # return embedding\n",
    "    pass"
   ]
  },
  {
   "cell_type": "markdown",
   "metadata": {},
   "source": [
    "Create a feed-forward network class with pytorch. (Hyperparamter choice such as number of layers, hidden size is left to you) (8 points)"
   ]
  },
  {
   "cell_type": "code",
   "execution_count": null,
   "metadata": {},
   "outputs": [],
   "source": [
    "class Classifier(nn.Module):\n",
    "    pass"
   ]
  },
  {
   "cell_type": "markdown",
   "metadata": {},
   "source": [
    "Create a Dataset class for efficiently enumerating over the dataset. (3 points)"
   ]
  },
  {
   "cell_type": "code",
   "execution_count": null,
   "metadata": {},
   "outputs": [],
   "source": [
    "class sent_data(Dataset):\n",
    "    def __init__(self):\n",
    "        pass\n",
    "    \n",
    "    def __len__(self):\n",
    "        pass\n",
    "    \n",
    "    def __getitem__(self):\n",
    "        pass"
   ]
  },
  {
   "cell_type": "markdown",
   "metadata": {},
   "source": [
    "Write a train function to train model. At the end of each epoch compute the validation accuracy and save the model with the best validation accuracy. (12 points)"
   ]
  },
  {
   "cell_type": "code",
   "execution_count": null,
   "metadata": {},
   "outputs": [],
   "source": [
    "# Adopt your code to incorporate mini-batch training\n",
    "# Use cross-entropy as your loss function\n",
    "def train(model, train_data, val_data, epochs=5, learning_rate=0.001):\n",
    "    # write your code snippet here\n",
    "    \n",
    "    pass"
   ]
  },
  {
   "cell_type": "markdown",
   "metadata": {},
   "source": [
    "Evaluate the trained model on the test set and report the test accuracy. (3 points)"
   ]
  },
  {
   "cell_type": "code",
   "execution_count": null,
   "metadata": {},
   "outputs": [],
   "source": [
    "def evaluate(model, test_data):\n",
    "    pass"
   ]
  }
 ],
 "metadata": {
  "kernelspec": {
   "display_name": "TM_HA1",
   "language": "python",
   "name": "python3"
  },
  "language_info": {
   "codemirror_mode": {
    "name": "ipython",
    "version": 3
   },
   "file_extension": ".py",
   "mimetype": "text/x-python",
   "name": "python",
   "nbconvert_exporter": "python",
   "pygments_lexer": "ipython3",
   "version": "3.11.11"
  }
 },
 "nbformat": 4,
 "nbformat_minor": 2
}
