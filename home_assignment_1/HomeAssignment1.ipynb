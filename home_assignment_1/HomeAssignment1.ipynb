{
 "cells": [
  {
   "cell_type": "markdown",
   "metadata": {},
   "source": [
    "# Home Assignment 1\n",
    "Due by 8th May, 2024 at 23:59 CEST"
   ]
  },
  {
   "cell_type": "markdown",
   "metadata": {},
   "source": [
    "Students:\n",
    "* Hauke Schüle, 10004972\n",
    "* Jannik Jahn, "
   ]
  },
  {
   "cell_type": "code",
   "execution_count": 1,
   "metadata": {},
   "outputs": [],
   "source": [
    "import numpy as np\n",
    "import matplotlib.pyplot as plt"
   ]
  },
  {
   "cell_type": "markdown",
   "metadata": {},
   "source": [
    "## Neural Network Basics\n",
    "\n",
    "We want to create a 2 layer NN, which means we want to calculate  $y = W_2 * ReLU(W_1 * x + b_1) + b_2$\n",
    "\n",
    "Complete the TODOs below to create such a NN.\n",
    "\n",
    "Since you will be needing to compute the gradients w.r.t. all parameters, you may look into online resources for help. Please cite or link any online recources you do use.\n",
    "\n",
    "You are allowed to change any existing parts, however the code has to remain easy to understand and well documented."
   ]
  },
  {
   "cell_type": "code",
   "execution_count": 2,
   "metadata": {},
   "outputs": [],
   "source": [
    "def relu(x):\n",
    "    \"\"\"\n",
    "    ReLU activation function\n",
    "    \n",
    "    Parameters:\n",
    "        x (np.ndarray): numpy array with shape (m, n) where m is the number of dimensions and n is the number of points\n",
    "        \n",
    "    Returns:\n",
    "        x' (np.ndarray): return value of the pointwise ReLU application\n",
    "    \"\"\"\n",
    "    r = x.copy()\n",
    "    for element in np.nditer(r, op_flags=['readwrite']):\n",
    "        if element < 0:\n",
    "            element[...] = 0\n",
    "        else:\n",
    "            element[...] = element\n",
    "    return r\n",
    "\n",
    "\n",
    "def relu_grad(x):\n",
    "    r_grad = x.copy()\n",
    "    for element in np.nditer(r_grad, op_flags=['readwrite']):\n",
    "        if element <= 0:\n",
    "            element[...] = 0\n",
    "        else:\n",
    "            element[...] = 1\n",
    "    return r_grad\n",
    "\n",
    "def sigmoid(x):\n",
    "    \"\"\"\n",
    "    Sigmoid activation function\n",
    "    Parameters:\n",
    "        x (np.ndarray): numpy array with shape (m, n) where m is the number of dimensions and n is the number of points\n",
    "    Returns:\n",
    "        x' (np.ndarray): return value of the pointwise sigmoid application\n",
    "    \"\"\"\n",
    "    return 1 / (1 + np.exp(-x))"
   ]
  },
  {
   "cell_type": "code",
   "execution_count": 3,
   "metadata": {},
   "outputs": [],
   "source": [
    "class NumPyNeuralNet:\n",
    "    \n",
    "    def __init__(self, dim_in, dim_hidden, dim_out):\n",
    "        self.dim_in = dim_in\n",
    "        self.dim_hidden = dim_hidden\n",
    "        self.dim_out = dim_out\n",
    "        \n",
    "        self.W_1 = np.random.randn(dim_in, dim_hidden) # weight matrix for first layer\n",
    "        self.W_2 = np.random.randn(dim_hidden, dim_out) # weight matrix for second layer\n",
    "        self.b_1 = np.random.randn(1, dim_hidden) # bias for first layer, shape (1, n) for easy matrix addition\n",
    "        self.b_2 = np.random.randn(1, dim_out) # bias for second layer, shape (1, n) for easy matrix addition\n",
    "        \n",
    "        \n",
    "    def predict(self, x):\n",
    "        \"\"\"\n",
    "        Calculates the output of the neural network for the given x.\n",
    "        \n",
    "        Parameters:\n",
    "            x (np.ndarray): input value numpy array\n",
    "        \n",
    "        Returns:\n",
    "            y (np.ndarray): predicted output for `x`\n",
    "        \"\"\"\n",
    "        if x.shape != (1, self.dim_in):\n",
    "            raise ValueError(f\"Input dimension {x.shape} does not match the expected input dimension {(1, self.dim_in)}\")\n",
    "        hidden = relu((x @ self.W_1) + self.b_1)\n",
    "        output = hidden @ self.W_2 + self.b_2\n",
    "        return output\n",
    "    \n",
    "    \n",
    "    def loss(self, x, y):\n",
    "        \"\"\"\n",
    "        Calculates the Mean-Squared Error and returns the gradients w.r.t. to the parameters.\n",
    "        \n",
    "        Parameters:\n",
    "            x (np.ndarray): input value numpy array with shape (self.dim_in, n)\n",
    "            y (np.ndarray): ground truth value numpy array with shape (self.dim_out, n)\n",
    "            \n",
    "        Returns:\n",
    "            loss (float): Mean-Squared-Error between predicted value on input points and ground truth value\n",
    "            W_1_grad (np.ndarray): gradient w.r.t W_1   \n",
    "            W_2_grad (np.ndarray): gradient w.r.t W_2  \n",
    "            b_1_grad (np.ndarray): gradient w.r.t b_1   \n",
    "            b_2_grad (np.ndarray): gradient w.r.t b_2   \n",
    "        \"\"\"\n",
    "        # make sure that the input and output dimensions are correct\n",
    "        if x.shape != (1, self.dim_in):\n",
    "            raise ValueError(f\"Input dimension {x.shape} does not match the expected input dimension {(1, self.dim_in)}\")\n",
    "        if y.shape != (1, self.dim_out):\n",
    "            raise ValueError(f\"Ground truth dimension {y.shape} does not match the expected output dimension {(1, self.dim_out)}\")\n",
    "        y_pred = self.predict(x)\n",
    "\n",
    "        if y_pred.shape != y.shape:\n",
    "            raise ValueError(f\"Predicted shape {y_pred.shape} does not match the expected shape {y.shape}\")\n",
    "        \n",
    "        # calculate the loss\n",
    "        loss = 0.5 * np.mean(np.square(y_pred - y)) # Mean Squared Error with 1/2 factor for easier gradient calculation\n",
    "        \n",
    "        # calculate the gradients\n",
    "        l_grad = y_pred - y # gradient of the loss w.r.t. the output\n",
    "        h = x @ self.W_1 + self.b_1\n",
    "        r = relu(h)\n",
    "        r_grad = relu_grad(h)\n",
    "\n",
    "        b_2_grad = np.array(l_grad)\n",
    "        W_2_grad = r.T @ l_grad\n",
    "        b_1_grad = l_grad @ self.W_2.T * r_grad\n",
    "        W_1_grad = x.T @ (l_grad @ self.W_2.T * r_grad)\n",
    "\n",
    "        return loss, W_1_grad, W_2_grad, b_1_grad, b_2_grad\n",
    "\n",
    "    \n",
    "    def update(self, W_1_grad, W_2_grad, b_1_grad, b_2_grad, lr=0.001):\n",
    "        \"\"\"\n",
    "        Update the parameters of the neural network with the gradients.\n",
    "        \n",
    "        Parameters:\n",
    "            W_1_grad (np.ndarray): gradient w.r.t W_1\n",
    "            W_2_grad (np.ndarray): gradient w.r.t W_2\n",
    "            b_1_grad (np.ndarray): gradient w.r.t b_1\n",
    "            b_2_grad (np.ndarray): gradient w.r.t b_2\n",
    "            lr (float): learning rate, default: 0.001\n",
    "        \"\"\"\n",
    "        self.W_1 -= lr * W_1_grad\n",
    "        self.W_2 -= lr * W_2_grad\n",
    "        self.b_1 -= lr * b_1_grad\n",
    "        self.b_2 -= lr * b_2_grad\n",
    "\n",
    "         \n",
    "    def train(self, x, y, lr=0.001, epochs=1000):\n",
    "        \"\"\"\n",
    "        Train the neural network with gradient descent.\n",
    "        \n",
    "        Parameters:\n",
    "            x (np.ndarray): input values\n",
    "            y (np.ndarray): ground truth values\n",
    "            lr (float): learning rate, default: 0.001\n",
    "            epochs (int): number of epochs to train, default: 1000\n",
    "            \n",
    "        Returns:\n",
    "            loss (float): Return the loss achieved after all epochs\n",
    "        \"\"\"\n",
    "        loss_history = []\n",
    "        # for every epoch\n",
    "        for i in range(epochs):\n",
    "            # for every sample in the dataset\n",
    "            loss_eopch = [] # plot the mean loss for every epoch\n",
    "            for j in range(x.shape[0]): # x shape is to be expected as (n, 1, dim_in). n samples in the dataset with the extra dimension for easier matrix multiplication\n",
    "                x_j = x[j]\n",
    "                y_j = y[j]\n",
    "                loss, W_1_grad, W_2_grad, b_1_grad, b_2_grad = self.loss(x_j, y_j)\n",
    "                self.update(W_1_grad, W_2_grad, b_1_grad, b_2_grad, lr)\n",
    "                loss_eopch.append(loss)\n",
    "            loss_history.append(np.mean(loss_eopch))\n",
    "        plt.plot(loss_history)\n",
    "        plt.ylabel(\"Loss\")\n",
    "        plt.xlabel(\"Epochs\")\n",
    "        plt.title(\"Average Loss over epochs\")\n",
    "        plt.show()\n",
    "        return loss # return the final loss\n",
    "\n"
   ]
  },
  {
   "cell_type": "code",
   "execution_count": 4,
   "metadata": {},
   "outputs": [
    {
     "data": {
      "image/png": "[encoded data removed]",
      "text/plain": [
       "<Figure size 640x480 with 1 Axes>"
      ]
     },
     "metadata": {},
     "output_type": "display_data"
    },
    {
     "name": "stdout",
     "output_type": "stream",
     "text": [
      "Final loss: 0.829838943588681\n"
     ]
    }
   ],
   "source": [
    "# We test the model created above on the simple function y = x^2\n",
    "\n",
    "model = NumPyNeuralNet(1, 20, 1)\n",
    "\n",
    "# Create a randomly distributed array of 1000 values\n",
    "x_train = 4 * np.random.randn(100, 1, 1)\n",
    "# Create ground truth by calculating x*x\n",
    "y_train = np.expand_dims([[x_train[i][0][0] * x_train[i][0][0]] for i in range(x_train.shape[0])], axis=1)\n",
    "\n",
    "loss = model.train(x_train, y_train, lr=0.001, epochs=30)\n",
    "print(f\"Final loss: {loss}\")\n",
    "\n",
    "# 1000 samples with 1000 epochs work, but *10 is too large values. I suspect that the weights are too large\n",
    "# and then we get overflow errors. But with *4 it works quite well."
   ]
  },
  {
   "cell_type": "code",
   "execution_count": 5,
   "metadata": {},
   "outputs": [
    {
     "data": {
      "image/png": "[encoded data removed]",
      "text/plain": [
       "<Figure size 640x480 with 1 Axes>"
      ]
     },
     "metadata": {},
     "output_type": "display_data"
    },
    {
     "name": "stdout",
     "output_type": "stream",
     "text": [
      "x_train shape: (50, 1, 4)\n",
      "y_train shape: (50, 1, 2)\n",
      "y_train: [[[ 1.12291779e+00  5.79694631e+00]]\n",
      "\n",
      " [[ 7.53420250e+00 -4.42961695e+00]]\n",
      "\n",
      " [[ 6.45645075e+00 -5.65393191e+00]]\n",
      "\n",
      " [[ 8.24325609e+00  2.29305279e+00]]\n",
      "\n",
      " [[ 6.32063335e+00  2.34433178e+00]]\n",
      "\n",
      " [[ 1.20312818e+00 -3.78501803e+00]]\n",
      "\n",
      " [[-1.04852933e+01  2.59332884e+00]]\n",
      "\n",
      " [[-1.52478798e+00  5.08606899e+00]]\n",
      "\n",
      " [[-3.11971909e+00  1.72375909e+00]]\n",
      "\n",
      " [[ 1.29236267e+01  4.33436033e+00]]\n",
      "\n",
      " [[-9.65846840e+00  9.06907749e-01]]\n",
      "\n",
      " [[-1.19210620e+01 -4.55020780e-01]]\n",
      "\n",
      " [[ 4.64205506e+00  5.11509671e+00]]\n",
      "\n",
      " [[ 1.72773923e+00 -1.88205787e+00]]\n",
      "\n",
      " [[-4.63775545e+00  9.08596476e+00]]\n",
      "\n",
      " [[ 4.51883510e+00 -5.48726249e-01]]\n",
      "\n",
      " [[ 6.90701873e+00 -1.67666049e+00]]\n",
      "\n",
      " [[ 3.17752291e+00  5.01393358e+00]]\n",
      "\n",
      " [[ 4.30037831e+00 -4.54058982e+00]]\n",
      "\n",
      " [[ 2.07059325e+00  5.73398894e+00]]\n",
      "\n",
      " [[ 7.95457477e+00 -7.13215284e+00]]\n",
      "\n",
      " [[ 3.03123064e+00 -3.68642627e+00]]\n",
      "\n",
      " [[-1.71689437e+00  1.36695152e+00]]\n",
      "\n",
      " [[ 3.57862481e+00 -3.75262947e+00]]\n",
      "\n",
      " [[ 5.80321617e+00 -1.00451794e+01]]\n",
      "\n",
      " [[ 4.10710106e+00 -7.83529089e-01]]\n",
      "\n",
      " [[ 3.94849935e+00  2.16123033e-01]]\n",
      "\n",
      " [[ 2.54834943e+00 -6.41845568e+00]]\n",
      "\n",
      " [[-5.99571894e-01  1.07902764e+01]]\n",
      "\n",
      " [[-5.54147144e+00 -4.83279441e-01]]\n",
      "\n",
      " [[-6.40156945e+00 -1.02774669e+00]]\n",
      "\n",
      " [[ 2.94135160e+00 -6.75667845e+00]]\n",
      "\n",
      " [[ 2.12876579e-02 -4.71876891e+00]]\n",
      "\n",
      " [[ 6.24297633e+00 -5.87751846e+00]]\n",
      "\n",
      " [[ 5.84330055e+00  3.37492258e+00]]\n",
      "\n",
      " [[-7.37692190e+00  1.67740434e+00]]\n",
      "\n",
      " [[-1.86972015e-01 -3.77626093e+00]]\n",
      "\n",
      " [[-3.60746753e+00  5.90475388e+00]]\n",
      "\n",
      " [[ 5.45903732e-01  6.59618794e+00]]\n",
      "\n",
      " [[ 3.91606788e+00  1.47167435e+01]]\n",
      "\n",
      " [[-4.14030398e+00 -1.13838534e+01]]\n",
      "\n",
      " [[-4.50999904e+00  1.46526865e+00]]\n",
      "\n",
      " [[-3.65644851e+00  2.70377399e+00]]\n",
      "\n",
      " [[ 1.20156456e-02  2.54950625e+00]]\n",
      "\n",
      " [[ 4.10119312e+00 -1.22198874e+00]]\n",
      "\n",
      " [[-5.87913020e+00  9.37623635e+00]]\n",
      "\n",
      " [[ 7.12644890e+00  2.24065513e+00]]\n",
      "\n",
      " [[-4.01676805e+00  1.22296294e+01]]\n",
      "\n",
      " [[-6.10577118e+00  9.88113442e-01]]\n",
      "\n",
      " [[-2.22931308e+00  9.06638476e-01]]]\n",
      "x_test [[-2.12984344 -1.61841915  1.07692877  1.26410283]]\n",
      "Predicted: [[-3.63778695  3.41319136]]\n",
      "Expected: [[-3.74826259  2.3410316 ]]\n",
      "Final loss: 0.4865597112446632\n"
     ]
    }
   ],
   "source": [
    "# test the model on more than one input dimension and with reasonable number of epochs and samples on a simple function\n",
    "\n",
    "model = NumPyNeuralNet(4, 20, 2)\n",
    "\n",
    "x_train = 4 * np.random.randn(50, 1, 4)\n",
    "y_train = np.expand_dims([[x_train[i][0][0] + x_train[i][0][1], x_train[i][0][2] + x_train[i][0][3]] for i in range(x_train.shape[0])], axis=1)\n",
    "\n",
    "loss = model.train(x_train, y_train, lr=0.001, epochs=30)\n",
    "print(f\"x_train shape: {x_train.shape}\")\n",
    "print(f\"y_train shape: {y_train.shape}\")\n",
    "print(f\"y_train: {y_train}\")\n",
    "x_test = 2 * np.random.randn(1, 4)\n",
    "y_test = np.array([[x_test[0][0] + x_test[0][1], x_test[0][2] + x_test[0][3]]])\n",
    "print(f\"x_test {x_test}\")\n",
    "print(f\"Predicted: {model.predict(x_test)}\")\n",
    "print(f\"Expected: {y_test}\")\n",
    "print(f\"Final loss: {loss}\")"
   ]
  },
  {
   "cell_type": "markdown",
   "metadata": {},
   "source": [
    "## Embeddings\n",
    "\n",
    "### Intrinsic evaluation of embeddings\n",
    "Word similarity task is often used as an intrinsic evaluation criteria. In the dataset file you will find a list of word pairs with their similarity scores as judged by humans. The task would be to judge how well are the word vectors aligned to human judgement. We will use word2vec embedding vectors trained on the google news corpus. (Ignore the pairs where at least one the words is absent in the corpus)"
   ]
  },
  {
   "cell_type": "code",
   "execution_count": 8,
   "metadata": {},
   "outputs": [],
   "source": [
    "import torch.nn as nn\n",
    "from torch.utils.data import Dataset, DataLoader\n",
    "import gensim.downloader as api\n",
    "wv = api.load('word2vec-google-news-300')"
   ]
  },
  {
   "cell_type": "code",
   "execution_count": 17,
   "metadata": {},
   "outputs": [],
   "source": [
    "from sklearn.metrics.pairwise import cosine_similarity\n",
    "import pandas as pd"
   ]
  },
  {
   "cell_type": "markdown",
   "metadata": {},
   "source": [
    "Write a function which takes as input two words and computes the cosine similarity between them.\n",
    "You do not need to implement the cosine similarity calculation from scratch. Feel free to use any Python library.\n",
    "Remeber to ignore any pairs where at least one word is absent in the corpus. (2 points)"
   ]
  },
  {
   "cell_type": "code",
   "execution_count": 23,
   "metadata": {},
   "outputs": [],
   "source": [
    "def similarity(word1, word2):\n",
    "    \"\"\"\n",
    "    Calculate the cosine similarity between two words.\n",
    "    \n",
    "    Parameters:\n",
    "        word1 (str): first word\n",
    "        word2 (str): second word\n",
    "        \n",
    "    Returns:\n",
    "        sim (float): cosine similarity between the two words\n",
    "    \"\"\"\n",
    "    if word1 not in wv.key_to_index or word2 not in wv.key_to_index:\n",
    "        return None\n",
    "    sim = cosine_similarity(wv[word1].reshape(1, -1), wv[word2].reshape(1, -1))\n",
    "    return sim[0][0]"
   ]
  },
  {
   "cell_type": "markdown",
   "metadata": {},
   "source": [
    "Compute the similarity between all the word pairs in the list and sort them based on the similarity scores. (1 point)"
   ]
  },
  {
   "cell_type": "code",
   "execution_count": null,
   "metadata": {},
   "outputs": [
    {
     "name": "stdout",
     "output_type": "stream",
     "text": [
      "[('tiger', 'tiger'), ('Harvard', 'Yale'), ('man', 'woman'), ('football', 'soccer'), ('mile', 'kilometer'), ('vodka', 'brandy'), ('journey', 'voyage'), ('football', 'basketball'), ('type', 'kind'), ('championship', 'tournament')]\n"
     ]
    }
   ],
   "source": [
    "df.sort_values(by='similarity_score', ascending=False, inplace=True)\n",
    "word_pairs_cosine_similarity = list(zip(df['word_1'].tolist(), df['word_2'].tolist()))\n",
    "print(word_pairs_cosine_similarity[:10])"
   ]
  },
  {
   "cell_type": "markdown",
   "metadata": {},
   "source": [
    "Sort the word pairs in the list based on the human judgement scores. (1 point)"
   ]
  },
  {
   "cell_type": "code",
   "execution_count": 31,
   "metadata": {},
   "outputs": [
    {
     "name": "stdout",
     "output_type": "stream",
     "text": [
      "[('tiger', 'tiger'), ('fuck', 'sex'), ('midday', 'noon'), ('journey', 'voyage'), ('dollar', 'buck'), ('money', 'cash'), ('coast', 'shore'), ('money', 'cash'), ('money', 'currency'), ('football', 'soccer')]\n"
     ]
    }
   ],
   "source": [
    "df.sort_values(by='human_mean', ascending=False, inplace=True)\n",
    "word_pairs_human_mean = list(zip(df['word_1'].tolist(), df['word_2'].tolist()))\n",
    "print(word_pairs_human_mean[:10])"
   ]
  },
  {
   "cell_type": "markdown",
   "metadata": {},
   "source": [
    "Compute spearman rank correlation between the two ranked lists obtained in the previous two steps.\n",
    "You do not need to implement the spearman rank correlation calculation from scratch. Feel free to use any Python library. (2 points)"
   ]
  },
  {
   "cell_type": "code",
   "execution_count": 32,
   "metadata": {},
   "outputs": [
    {
     "name": "stdout",
     "output_type": "stream",
     "text": [
      "len word_pairs_cosine_similarity: 353\n",
      "len word_pairs_human_mean: 353\n"
     ]
    }
   ],
   "source": [
    "print(f\"len word_pairs_cosine_similarity: {len(word_pairs_cosine_similarity)}\")\n",
    "print(f\"len word_pairs_human_mean: {len(word_pairs_human_mean)}\")"
   ]
  },
  {
   "cell_type": "markdown",
   "metadata": {},
   "source": [
    "### Word embedding based clasifier\n",
    "We will design a simple sentiment classifier based on the pre-trained word embeddings (google news).\n",
    "\n",
    "Each data point is a movie review and the sentiment could be either positive (1) or negative (0)"
   ]
  },
  {
   "cell_type": "code",
   "execution_count": 82,
   "metadata": {},
   "outputs": [
    {
     "data": {
      "text/plain": [
       "1821"
      ]
     },
     "execution_count": 82,
     "metadata": {},
     "output_type": "execute_result"
    }
   ],
   "source": [
    "import pickle\n",
    "with open('sentiment_test_X.p', 'rb') as fs:\n",
    "    test_X = pickle.load(fs)\n",
    "\n",
    "len(test_X)"
   ]
  },
  {
   "cell_type": "code",
   "execution_count": 83,
   "metadata": {},
   "outputs": [
    {
     "data": {
      "text/plain": [
       "['If',\n",
       " 'you',\n",
       " 'sometimes',\n",
       " 'like',\n",
       " 'to',\n",
       " 'go',\n",
       " 'to',\n",
       " 'the',\n",
       " 'movies',\n",
       " 'to',\n",
       " 'have',\n",
       " 'fun',\n",
       " ',',\n",
       " 'Wasabi',\n",
       " 'is',\n",
       " 'a',\n",
       " 'good',\n",
       " 'place',\n",
       " 'to',\n",
       " 'start',\n",
       " '.']"
      ]
     },
     "execution_count": 83,
     "metadata": {},
     "output_type": "execute_result"
    }
   ],
   "source": [
    "test_X[0]"
   ]
  },
  {
   "cell_type": "code",
   "execution_count": 84,
   "metadata": {},
   "outputs": [
    {
     "data": {
      "text/plain": [
       "1821"
      ]
     },
     "execution_count": 84,
     "metadata": {},
     "output_type": "execute_result"
    }
   ],
   "source": [
    "with open('sentiment_test_y.p', 'rb') as fs:\n",
    "    test_y = pickle.load(fs)\n",
    "    \n",
    "len(test_y)"
   ]
  },
  {
   "cell_type": "code",
   "execution_count": 85,
   "metadata": {},
   "outputs": [
    {
     "data": {
      "text/plain": [
       "1"
      ]
     },
     "execution_count": 85,
     "metadata": {},
     "output_type": "execute_result"
    }
   ],
   "source": [
    "test_y[0]"
   ]
  },
  {
   "cell_type": "code",
   "execution_count": 86,
   "metadata": {},
   "outputs": [],
   "source": [
    "with open('sentiment_train_X.p', 'rb') as fs:\n",
    "    train_X = pickle.load(fs)\n",
    "with open('sentiment_train_y.p', 'rb') as fs:\n",
    "    train_y = pickle.load(fs)\n",
    "with open('sentiment_val_X.p', 'rb') as fs:\n",
    "    val_X = pickle.load(fs)\n",
    "with open('sentiment_val_y.p', 'rb') as fs:\n",
    "    val_y = pickle.load(fs)        "
   ]
  },
  {
   "cell_type": "markdown",
   "metadata": {},
   "source": [
    "Given a review, compute its embedding by averaging over the embedding of its constituent words. Define a function which given a review as a list of words, generates its embeddings by averaging over the constituent word embeddings. (4 points)"
   ]
  },
  {
   "cell_type": "code",
   "execution_count": 87,
   "metadata": {},
   "outputs": [],
   "source": [
    "def generate_embedding(review):\n",
    "    # return embedding\n",
    "    pass"
   ]
  },
  {
   "cell_type": "markdown",
   "metadata": {},
   "source": [
    "Create a feed-forward network class with pytorch. (Hyperparamter choice such as number of layers, hidden size is left to you) (8 points)"
   ]
  },
  {
   "cell_type": "code",
   "execution_count": 88,
   "metadata": {},
   "outputs": [],
   "source": [
    "class Classifier(nn.Module):\n",
    "    pass"
   ]
  },
  {
   "cell_type": "markdown",
   "metadata": {},
   "source": [
    "Create a Dataset class for efficiently enumerating over the dataset. (3 points)"
   ]
  },
  {
   "cell_type": "code",
   "execution_count": 89,
   "metadata": {},
   "outputs": [],
   "source": [
    "class sent_data(Dataset):\n",
    "    def __init__(self):\n",
    "        pass\n",
    "    \n",
    "    def __len__(self):\n",
    "        pass\n",
    "    \n",
    "    def __getitem__(self):\n",
    "        pass"
   ]
  },
  {
   "cell_type": "markdown",
   "metadata": {},
   "source": [
    "Write a train function to train model. At the end of each epoch compute the validation accuracy and save the model with the best validation accuracy. (12 points)"
   ]
  },
  {
   "cell_type": "code",
   "execution_count": 90,
   "metadata": {},
   "outputs": [],
   "source": [
    "# Adopt your code to incorporate mini-batch training\n",
    "# Use cross-entropy as your loss function\n",
    "def train(model, train_data, val_data, epochs=5, learning_rate=0.001):\n",
    "    # write your code snippet here\n",
    "    \n",
    "    pass"
   ]
  },
  {
   "cell_type": "markdown",
   "metadata": {},
   "source": [
    "Evaluate the trained model on the test set and report the test accuracy. (3 points)"
   ]
  },
  {
   "cell_type": "code",
   "execution_count": 91,
   "metadata": {},
   "outputs": [],
   "source": [
    "def evaluate(model, test_data):\n",
    "    pass"
   ]
  }
 ],
 "metadata": {
  "kernelspec": {
   "display_name": "text_mining_home_assignment1",
   "language": "python",
   "name": "python3"
  },
  "language_info": {
   "codemirror_mode": {
    "name": "ipython",
    "version": 3
   },
   "file_extension": ".py",
   "mimetype": "text/x-python",
   "name": "python",
   "nbconvert_exporter": "python",
   "pygments_lexer": "ipython3",
   "version": "3.11.12"
  }
 },
 "nbformat": 4,
 "nbformat_minor": 2
}
