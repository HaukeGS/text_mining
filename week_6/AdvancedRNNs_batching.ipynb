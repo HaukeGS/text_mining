{
 "cells": [
  {
   "cell_type": "code",
   "execution_count": 1,
   "id": "2a7242d4",
   "metadata": {},
   "outputs": [],
   "source": [
    "import torch\n",
    "import torch.nn as nn\n",
    "import torch.nn.functional as F\n",
    "from torch.optim import Adam"
   ]
  },
  {
   "cell_type": "markdown",
   "id": "4664ca2d",
   "metadata": {},
   "source": [
    "# Pack padded sequence [Batching in RNNs]"
   ]
  },
  {
   "cell_type": "code",
   "execution_count": 2,
   "id": "1c59142f",
   "metadata": {},
   "outputs": [],
   "source": [
    "# Given the sentences are of different length, we have to pad them\n",
    "# Specifically useful for batch training"
   ]
  },
  {
   "cell_type": "code",
   "execution_count": 3,
   "id": "11dc62da",
   "metadata": {},
   "outputs": [],
   "source": [
    "from nltk.tokenize import word_tokenize"
   ]
  },
  {
   "cell_type": "code",
   "execution_count": 4,
   "id": "a408ddae",
   "metadata": {},
   "outputs": [],
   "source": [
    "import pickle"
   ]
  },
  {
   "cell_type": "code",
   "execution_count": 5,
   "id": "5e3511c4",
   "metadata": {},
   "outputs": [],
   "source": [
    "with open('train_X.p', 'rb') as fs:\n",
    "    train_X = pickle.load(fs)"
   ]
  },
  {
   "cell_type": "code",
   "execution_count": 6,
   "id": "0f5a0990",
   "metadata": {},
   "outputs": [],
   "source": [
    "with open('train_y.p', 'rb') as fs:\n",
    "    train_y = pickle.load(fs)"
   ]
  },
  {
   "cell_type": "code",
   "execution_count": 7,
   "id": "785ab2a5",
   "metadata": {},
   "outputs": [
    {
     "data": {
      "text/plain": [
       "\"The Rock is destined to be the 21st Century 's new `` Conan '' and that he 's going to make a splash even greater than Arnold Schwarzenegger , Jean-Claud Van Damme or Steven Segal .\""
      ]
     },
     "execution_count": 7,
     "metadata": {},
     "output_type": "execute_result"
    }
   ],
   "source": [
    "train_X[0]"
   ]
  },
  {
   "cell_type": "code",
   "execution_count": 8,
   "id": "5e7e47c0",
   "metadata": {},
   "outputs": [
    {
     "data": {
      "text/plain": [
       "1"
      ]
     },
     "execution_count": 8,
     "metadata": {},
     "output_type": "execute_result"
    }
   ],
   "source": [
    "train_y[0]"
   ]
  },
  {
   "cell_type": "code",
   "execution_count": 9,
   "id": "fcac9662",
   "metadata": {},
   "outputs": [],
   "source": [
    "word2index = {}\n",
    "index2word = {}\n",
    "i=1\n",
    "for sent in train_X:\n",
    "    words = word_tokenize(sent)\n",
    "    for w in words:\n",
    "        if w not in word2index:\n",
    "            word2index[w] = i\n",
    "            index2word[i] = w\n",
    "            i+=1"
   ]
  },
  {
   "cell_type": "code",
   "execution_count": 10,
   "id": "5231a6fc",
   "metadata": {},
   "outputs": [],
   "source": [
    "word2index['<UNK>'] = i\n",
    "index2word[i] = '<UNK>'"
   ]
  },
  {
   "cell_type": "code",
   "execution_count": 11,
   "id": "ae09d021",
   "metadata": {},
   "outputs": [],
   "source": [
    "sentence_batch = train_X[:4]"
   ]
  },
  {
   "cell_type": "code",
   "execution_count": 12,
   "id": "a3706c9c",
   "metadata": {},
   "outputs": [],
   "source": [
    "labels_batch = train_y[:4]"
   ]
  },
  {
   "cell_type": "code",
   "execution_count": 13,
   "id": "33702265",
   "metadata": {},
   "outputs": [],
   "source": [
    "indexed_batch = []\n",
    "for sent in sentence_batch:\n",
    "    ind = [word2index[w] if w in word2index else word2index['<UNK>'] for w in word_tokenize(sent)]\n",
    "    indexed_batch.append(ind)"
   ]
  },
  {
   "cell_type": "code",
   "execution_count": 14,
   "id": "950300a4",
   "metadata": {},
   "outputs": [],
   "source": [
    "batch_lengths = [len(sent) for sent in indexed_batch]"
   ]
  },
  {
   "cell_type": "code",
   "execution_count": 15,
   "id": "4414ca2a",
   "metadata": {},
   "outputs": [
    {
     "data": {
      "text/plain": [
       "[36, 38, 39, 19]"
      ]
     },
     "execution_count": 15,
     "metadata": {},
     "output_type": "execute_result"
    }
   ],
   "source": [
    "batch_lengths"
   ]
  },
  {
   "cell_type": "code",
   "execution_count": 16,
   "id": "96a18319",
   "metadata": {},
   "outputs": [],
   "source": [
    "max_length = 50\n",
    "for sent in indexed_batch:\n",
    "    if len(sent)>max_length:\n",
    "        sent = sent[:max_length]\n",
    "    else:\n",
    "        sent.extend([0 for _ in range(max_length-len(sent))])"
   ]
  },
  {
   "cell_type": "code",
   "execution_count": 17,
   "id": "edd4db76",
   "metadata": {},
   "outputs": [
    {
     "data": {
      "text/plain": [
       "[50, 50, 50, 50]"
      ]
     },
     "execution_count": 17,
     "metadata": {},
     "output_type": "execute_result"
    }
   ],
   "source": [
    "[len(sent) for sent in indexed_batch]"
   ]
  },
  {
   "cell_type": "code",
   "execution_count": 18,
   "id": "6dd01775",
   "metadata": {},
   "outputs": [],
   "source": [
    "from torch.nn.utils import rnn"
   ]
  },
  {
   "cell_type": "code",
   "execution_count": 77,
   "id": "2202959d",
   "metadata": {},
   "outputs": [],
   "source": [
    "class Clf_model(nn.Module):\n",
    "    def __init__(self):\n",
    "        super().__init__()\n",
    "        self.emb = nn.Embedding(len(word2index)+1, 300, padding_idx=0)\n",
    "        self.rnn = nn.RNN(300, 512, num_layers=2, batch_first=True) #by default seq_len x batch_size x embedding\n",
    "        self.relu = nn.ReLU()\n",
    "        self.lin1 = nn.Linear(512, 128)\n",
    "        self.lin2 = nn.Linear(128,2)\n",
    "    \n",
    "    def forward(self, inp, inp_length):\n",
    "        X = self.emb(inp) # batch_size x seq_len x embedding\n",
    "        batch_size = X.shape[0]\n",
    "        X = rnn.pack_padded_sequence(X, inp_lengths, batch_first=True, enforce_sorted=False)\n",
    "        h_0 = torch.rand(2, batch_size, 512)\n",
    "        packed_output, last_hidden = self.rnn(X, h_0)\n",
    "        unpacked_output, lengths = torch.nn.utils.rnn.pad_packed_sequence(packed_output, batch_first=True)\n",
    "        out = self.lin1(last_hidden.squeeze(0))\n",
    "        out = self.relu(out)\n",
    "        out = self.lin2(out)\n",
    "        return out"
   ]
  },
  {
   "cell_type": "code",
   "execution_count": 75,
   "id": "7cac4d61",
   "metadata": {},
   "outputs": [],
   "source": [
    "inp_tensor = torch.tensor(indexed_batch)\n",
    "inp_lengths = torch.tensor(batch_lengths)"
   ]
  },
  {
   "cell_type": "code",
   "execution_count": 76,
   "id": "289e4b56",
   "metadata": {},
   "outputs": [
    {
     "name": "stdout",
     "output_type": "stream",
     "text": [
      "torch.Size([2, 4, 512])\n",
      "torch.Size([4, 39, 512])\n"
     ]
    }
   ],
   "source": [
    "model = Clf_model()\n",
    "out = model(inp_tensor, inp_lengths)"
   ]
  },
  {
   "cell_type": "code",
   "execution_count": 32,
   "id": "4da7c8f8",
   "metadata": {},
   "outputs": [
    {
     "data": {
      "text/plain": [
       "tensor([[ 0.1295,  0.0682],\n",
       "        [ 0.1697, -0.0148],\n",
       "        [ 0.1156,  0.0618],\n",
       "        [ 0.1538,  0.0127]], grad_fn=<AddmmBackward0>)"
      ]
     },
     "execution_count": 32,
     "metadata": {},
     "output_type": "execute_result"
    }
   ],
   "source": [
    "out"
   ]
  },
  {
   "cell_type": "code",
   "execution_count": null,
   "id": "80573f4f-37bc-4a02-aa96-37aa677eb981",
   "metadata": {},
   "outputs": [],
   "source": []
  },
  {
   "cell_type": "markdown",
   "id": "0def4371",
   "metadata": {},
   "source": [
    "# Multi-layered RNNs"
   ]
  },
  {
   "cell_type": "code",
   "execution_count": 33,
   "id": "a8c78d8b",
   "metadata": {},
   "outputs": [],
   "source": [
    "batch_size=4\n",
    "seq_len=10\n",
    "input_size=20\n",
    "inp = torch.randn((4, 10, 20))"
   ]
  },
  {
   "cell_type": "code",
   "execution_count": 34,
   "id": "029a4d7d",
   "metadata": {},
   "outputs": [],
   "source": [
    "hidden_size=25\n",
    "num_layers=2\n",
    "model = nn.RNN(input_size, hidden_size, num_layers=num_layers, batch_first=True)"
   ]
  },
  {
   "cell_type": "code",
   "execution_count": 35,
   "id": "37d06624",
   "metadata": {},
   "outputs": [],
   "source": [
    "h_0 = torch.randn(num_layers, batch_size, hidden_size)"
   ]
  },
  {
   "cell_type": "code",
   "execution_count": 36,
   "id": "a60dee7c",
   "metadata": {},
   "outputs": [],
   "source": [
    "all_outputs, last_hidden = model(inp, h_0)"
   ]
  },
  {
   "cell_type": "code",
   "execution_count": 37,
   "id": "b498f8da",
   "metadata": {},
   "outputs": [
    {
     "data": {
      "text/plain": [
       "(torch.Size([4, 10, 25]), torch.Size([2, 4, 25]))"
      ]
     },
     "execution_count": 37,
     "metadata": {},
     "output_type": "execute_result"
    }
   ],
   "source": [
    "all_outputs.shape, last_hidden.shape"
   ]
  },
  {
   "cell_type": "code",
   "execution_count": 38,
   "id": "a099a8e4",
   "metadata": {},
   "outputs": [],
   "source": [
    "# all_outputs -> batch_size x seq_len x hidden_size || last layer hidden_state corresponsing to each element in the sequence\n",
    "# last_hidden -> layers x batch x hidden_size || The last hidden_state corresponding to each layer for each element in batch"
   ]
  },
  {
   "cell_type": "code",
   "execution_count": 39,
   "id": "5c11ca06",
   "metadata": {},
   "outputs": [
    {
     "data": {
      "text/plain": [
       "tensor([-0.1308, -0.2248,  0.1781,  0.1670,  0.1150, -0.2178,  0.3064,  0.0305,\n",
       "         0.1996, -0.1727,  0.4197, -0.3187, -0.1914, -0.0441, -0.5463,  0.1929,\n",
       "        -0.2758, -0.4946, -0.1328, -0.6834, -0.0140, -0.0068,  0.1660,  0.3116,\n",
       "         0.7350], grad_fn=<SliceBackward0>)"
      ]
     },
     "execution_count": 39,
     "metadata": {},
     "output_type": "execute_result"
    }
   ],
   "source": [
    "all_outputs[0,-1,:]"
   ]
  },
  {
   "cell_type": "code",
   "execution_count": 41,
   "id": "9a903c5d",
   "metadata": {},
   "outputs": [
    {
     "data": {
      "text/plain": [
       "tensor([-0.1308, -0.2248,  0.1781,  0.1670,  0.1150, -0.2178,  0.3064,  0.0305,\n",
       "         0.1996, -0.1727,  0.4197, -0.3187, -0.1914, -0.0441, -0.5463,  0.1929,\n",
       "        -0.2758, -0.4946, -0.1328, -0.6834, -0.0140, -0.0068,  0.1660,  0.3116,\n",
       "         0.7350], grad_fn=<SliceBackward0>)"
      ]
     },
     "execution_count": 41,
     "metadata": {},
     "output_type": "execute_result"
    }
   ],
   "source": [
    "last_hidden[1,0,:]"
   ]
  },
  {
   "cell_type": "markdown",
   "id": "3750af1e",
   "metadata": {},
   "source": [
    "# Bidirectional RNNs"
   ]
  },
  {
   "cell_type": "code",
   "execution_count": 56,
   "id": "b8b6a78d",
   "metadata": {},
   "outputs": [],
   "source": [
    "num_layers=1\n",
    "model = nn.RNN(input_size, hidden_size, num_layers=num_layers, bidirectional=True, batch_first=True)"
   ]
  },
  {
   "cell_type": "code",
   "execution_count": 57,
   "id": "976f7b37",
   "metadata": {},
   "outputs": [],
   "source": [
    "h_0 = torch.zeros(2*num_layers, batch_size, hidden_size)"
   ]
  },
  {
   "cell_type": "code",
   "execution_count": 58,
   "id": "8a6040f3",
   "metadata": {},
   "outputs": [],
   "source": [
    "all_outputs, last_hidden = model(inp, h_0)"
   ]
  },
  {
   "cell_type": "code",
   "execution_count": 59,
   "id": "5c47f010",
   "metadata": {},
   "outputs": [
    {
     "data": {
      "text/plain": [
       "(torch.Size([4, 10, 50]), torch.Size([2, 4, 25]))"
      ]
     },
     "execution_count": 59,
     "metadata": {},
     "output_type": "execute_result"
    }
   ],
   "source": [
    "all_outputs.shape, last_hidden.shape"
   ]
  },
  {
   "cell_type": "code",
   "execution_count": 60,
   "id": "51bf35fe",
   "metadata": {},
   "outputs": [],
   "source": [
    "# all_outputs -> batch_size x seq_len x last_hidden*2 || concatenated hidden states for each direction\n",
    "# last_hidden -> 2*layers x batch_size x last_hidden"
   ]
  },
  {
   "cell_type": "code",
   "execution_count": 67,
   "id": "aa81eeeb",
   "metadata": {},
   "outputs": [
    {
     "data": {
      "text/plain": [
       "tensor([-0.0591, -0.2167,  0.3445,  0.2151,  0.6941, -0.7000,  0.1784,  0.5229,\n",
       "        -0.0287, -0.2525,  0.5011,  0.5533,  0.2229,  0.6401,  0.7517, -0.0487,\n",
       "         0.1078, -0.1037, -0.4245, -0.6141, -0.8736,  0.4709,  0.7587,  0.3324,\n",
       "        -0.6094], grad_fn=<SliceBackward0>)"
      ]
     },
     "execution_count": 67,
     "metadata": {},
     "output_type": "execute_result"
    }
   ],
   "source": [
    "all_outputs[0, -1, :25]"
   ]
  },
  {
   "cell_type": "code",
   "execution_count": 68,
   "id": "67be31c1",
   "metadata": {},
   "outputs": [
    {
     "data": {
      "text/plain": [
       "tensor([-0.0591, -0.2167,  0.3445,  0.2151,  0.6941, -0.7000,  0.1784,  0.5229,\n",
       "        -0.0287, -0.2525,  0.5011,  0.5533,  0.2229,  0.6401,  0.7517, -0.0487,\n",
       "         0.1078, -0.1037, -0.4245, -0.6141, -0.8736,  0.4709,  0.7587,  0.3324,\n",
       "        -0.6094], grad_fn=<SliceBackward0>)"
      ]
     },
     "execution_count": 68,
     "metadata": {},
     "output_type": "execute_result"
    }
   ],
   "source": [
    "last_hidden[0, 0, :]"
   ]
  },
  {
   "cell_type": "code",
   "execution_count": 69,
   "id": "d858de78",
   "metadata": {},
   "outputs": [
    {
     "data": {
      "text/plain": [
       "tensor([-0.6717,  0.7311, -0.5096,  0.2763,  0.1644, -0.5523,  0.6719,  0.4401,\n",
       "        -0.3511, -0.3034,  0.2972, -0.0869,  0.0013, -0.2227, -0.0914, -0.3052,\n",
       "         0.1803,  0.6271,  0.6227, -0.2678,  0.2000, -0.1552, -0.6472,  0.5953,\n",
       "        -0.1103], grad_fn=<SliceBackward0>)"
      ]
     },
     "execution_count": 69,
     "metadata": {},
     "output_type": "execute_result"
    }
   ],
   "source": [
    "all_outputs[0, 0, 25:]"
   ]
  },
  {
   "cell_type": "code",
   "execution_count": 70,
   "id": "6d8e97e1",
   "metadata": {},
   "outputs": [
    {
     "data": {
      "text/plain": [
       "tensor([-0.6717,  0.7311, -0.5096,  0.2763,  0.1644, -0.5523,  0.6719,  0.4401,\n",
       "        -0.3511, -0.3034,  0.2972, -0.0869,  0.0013, -0.2227, -0.0914, -0.3052,\n",
       "         0.1803,  0.6271,  0.6227, -0.2678,  0.2000, -0.1552, -0.6472,  0.5953,\n",
       "        -0.1103], grad_fn=<SliceBackward0>)"
      ]
     },
     "execution_count": 70,
     "metadata": {},
     "output_type": "execute_result"
    }
   ],
   "source": [
    "last_hidden[1, 0, :]"
   ]
  },
  {
   "cell_type": "markdown",
   "id": "f6edaa38",
   "metadata": {},
   "source": [
    "# LSTM"
   ]
  },
  {
   "cell_type": "code",
   "execution_count": 80,
   "id": "bf501997",
   "metadata": {},
   "outputs": [],
   "source": [
    "# For LSTM, you would require definig an additional initial cell state c_0 (like l_0)"
   ]
  },
  {
   "cell_type": "code",
   "execution_count": 44,
   "id": "f274a827",
   "metadata": {},
   "outputs": [],
   "source": [
    "rnn = nn.LSTM(input_size=10, hidden_size=20, batch_first=True)\n",
    "input = torch.randn(3, 5, 10) # batch_size x seq_len x embedding\n",
    "h0 = torch.randn(1, 3, 20) # layers x batch_size x hidden_size\n",
    "c0 = torch.randn(1, 3, 20) # layers x batch_size x hidden_size\n",
    "output, (hn, cn) = rnn(input, (h0, c0))"
   ]
  },
  {
   "cell_type": "code",
   "execution_count": 45,
   "id": "80ab7e25",
   "metadata": {},
   "outputs": [
    {
     "data": {
      "text/plain": [
       "torch.Size([3, 5, 20])"
      ]
     },
     "execution_count": 45,
     "metadata": {},
     "output_type": "execute_result"
    }
   ],
   "source": [
    "output.shape # batch_size x seq_len x hidden_size || hidden states corresponding to each element in the sequence"
   ]
  },
  {
   "cell_type": "code",
   "execution_count": 46,
   "id": "a06a67e4",
   "metadata": {},
   "outputs": [
    {
     "data": {
      "text/plain": [
       "torch.Size([1, 3, 20])"
      ]
     },
     "execution_count": 46,
     "metadata": {},
     "output_type": "execute_result"
    }
   ],
   "source": [
    "hn.shape # last hidden state"
   ]
  },
  {
   "cell_type": "code",
   "execution_count": 47,
   "id": "049c0e4f",
   "metadata": {},
   "outputs": [
    {
     "data": {
      "text/plain": [
       "torch.Size([1, 3, 20])"
      ]
     },
     "execution_count": 47,
     "metadata": {},
     "output_type": "execute_result"
    }
   ],
   "source": [
    "cn.shape # last cell state"
   ]
  },
  {
   "cell_type": "code",
   "execution_count": 48,
   "id": "5c9f9e7d",
   "metadata": {},
   "outputs": [
    {
     "data": {
      "text/plain": [
       "tensor([ 0.0723, -0.1376,  0.2080, -0.1957,  0.0174, -0.1336, -0.1078,  0.0292,\n",
       "        -0.0376, -0.0027, -0.0177,  0.0217,  0.0013,  0.0073,  0.0323, -0.1544,\n",
       "         0.1165,  0.1479,  0.1139,  0.3052], grad_fn=<SliceBackward0>)"
      ]
     },
     "execution_count": 48,
     "metadata": {},
     "output_type": "execute_result"
    }
   ],
   "source": [
    "output[0,-1,:]"
   ]
  },
  {
   "cell_type": "code",
   "execution_count": 49,
   "id": "bca4d468",
   "metadata": {},
   "outputs": [
    {
     "data": {
      "text/plain": [
       "tensor([ 0.0723, -0.1376,  0.2080, -0.1957,  0.0174, -0.1336, -0.1078,  0.0292,\n",
       "        -0.0376, -0.0027, -0.0177,  0.0217,  0.0013,  0.0073,  0.0323, -0.1544,\n",
       "         0.1165,  0.1479,  0.1139,  0.3052], grad_fn=<SliceBackward0>)"
      ]
     },
     "execution_count": 49,
     "metadata": {},
     "output_type": "execute_result"
    }
   ],
   "source": [
    "hn[0,0,:]"
   ]
  },
  {
   "cell_type": "markdown",
   "id": "3c431e35",
   "metadata": {},
   "source": [
    "# Tasks"
   ]
  },
  {
   "cell_type": "markdown",
   "id": "36cef0bf",
   "metadata": {},
   "source": [
    "Design a GRU model (utilize multiple layers and bidirectionality) for sentiment classification on the SST dataset. First create a dataset class for the SST dataset. Train your model on the training set. At the end of each epoch measure the validation accuracy and save the model with the best validation accuracy. Evaluate you model and print the accuracy on the test set"
   ]
  },
  {
   "cell_type": "code",
   "execution_count": null,
   "id": "ea08cb32",
   "metadata": {},
   "outputs": [],
   "source": []
  },
  {
   "cell_type": "code",
   "execution_count": null,
   "id": "3042f518",
   "metadata": {},
   "outputs": [],
   "source": []
  }
 ],
 "metadata": {
  "kernelspec": {
   "display_name": "Python [conda env:base] *",
   "language": "python",
   "name": "conda-base-py"
  },
  "language_info": {
   "codemirror_mode": {
    "name": "ipython",
    "version": 3
   },
   "file_extension": ".py",
   "mimetype": "text/x-python",
   "name": "python",
   "nbconvert_exporter": "python",
   "pygments_lexer": "ipython3",
   "version": "3.12.7"
  }
 },
 "nbformat": 4,
 "nbformat_minor": 5
}
